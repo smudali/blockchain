{
 "cells": [
  {
   "cell_type": "code",
   "execution_count": 1,
   "id": "c48a1f32-0c24-4c4c-ad30-be935c690934",
   "metadata": {},
   "outputs": [],
   "source": [
    "# import sys\n",
    "# !{sys.executable} -m pip install --upgrade pip\n",
    "# !{sys.executable} -m pip install grpcio-tools"
   ]
  },
  {
   "cell_type": "markdown",
   "id": "d8c909e4-6f9f-4811-b0d3-6063fa06ad0d",
   "metadata": {},
   "source": [
    "## Imports"
   ]
  },
  {
   "cell_type": "code",
   "execution_count": 2,
   "id": "08454a2e-6464-4bd7-a7d8-cfe1363063a9",
   "metadata": {},
   "outputs": [],
   "source": [
    "# To generate PB2 files\n",
    "import subprocess\n",
    "\n",
    "import requests\n",
    "import re\n",
    "# File description for field inspection\n",
    "from google.protobuf.descriptor import FieldDescriptor"
   ]
  },
  {
   "cell_type": "markdown",
   "id": "37780668-5fb9-408c-bc9d-f51f01ba26da",
   "metadata": {},
   "source": [
    "## Constants"
   ]
  },
  {
   "cell_type": "code",
   "execution_count": 3,
   "id": "574f3ac8-e457-4cb1-b67e-297de96d3004",
   "metadata": {},
   "outputs": [],
   "source": [
    "SPKG_DIR='./spkg'\n",
    "\n",
    "# Regular expression to extract the package and class names\n",
    "RE_PACKAGE_CLASS = r'^(.*?)\\.([A-Z][a-zA-Z0-9_]*)$'\n",
    "\n",
    "# PB types\n",
    "TYPE_NAMES = {\n",
    "    FieldDescriptor.TYPE_DOUBLE: 'double',\n",
    "    FieldDescriptor.TYPE_FLOAT: 'float',\n",
    "    FieldDescriptor.TYPE_INT64: 'int64',\n",
    "    FieldDescriptor.TYPE_UINT64: 'uint64',\n",
    "    FieldDescriptor.TYPE_INT32: 'int32',\n",
    "    FieldDescriptor.TYPE_FIXED64: 'fixed64',\n",
    "    FieldDescriptor.TYPE_FIXED32: 'fixed32',\n",
    "    FieldDescriptor.TYPE_BOOL: 'bool',\n",
    "    FieldDescriptor.TYPE_STRING: 'string',\n",
    "    FieldDescriptor.TYPE_MESSAGE: 'message',\n",
    "    FieldDescriptor.TYPE_BYTES: 'bytes',\n",
    "    FieldDescriptor.TYPE_UINT32: 'uint32',\n",
    "    FieldDescriptor.TYPE_ENUM: 'enum',\n",
    "    FieldDescriptor.TYPE_SFIXED32: 'sfixed32',\n",
    "    FieldDescriptor.TYPE_SFIXED64: 'sfixed64',\n",
    "    FieldDescriptor.TYPE_SINT32: 'sint32',\n",
    "    FieldDescriptor.TYPE_SINT64: 'sint64',\n",
    "}\n",
    "\n",
    "# PB labels\n",
    "LABEL_NAMES = {\n",
    "    FieldDescriptor.LABEL_OPTIONAL: 'optional',\n",
    "    FieldDescriptor.LABEL_REQUIRED: 'required',\n",
    "    FieldDescriptor.LABEL_REPEATED: 'repeated',\n",
    "}"
   ]
  },
  {
   "cell_type": "markdown",
   "id": "5cb917ff-62e8-4da4-a4f1-ebfd462f2eb7",
   "metadata": {},
   "source": [
    "## Generate PB2 files"
   ]
  },
  {
   "cell_type": "code",
   "execution_count": 4,
   "id": "483aef6f-9bfa-4dbe-b943-c7f7c324bbc9",
   "metadata": {},
   "outputs": [],
   "source": [
    "def generate_pb2_files(commands:str, spkg_path:str, out_path:str='.') -> None:\n",
    "    command = f\"\"\"\n",
    "    alias protogen_py=\"python3 -m grpc_tools.protoc --descriptor_set_in={spkg_path} --python_out={out_path} --grpc_python_out={out_path}\";\n",
    "    {commands}\n",
    "    unalias protogen_py;\n",
    "    \"\"\"\n",
    "    try:\n",
    "        result = subprocess.run(command, shell=True, capture_output=True, text=True)\n",
    "    except subprocess.CalledProcessError as e:\n",
    "        print(f'CalledProcessError: Command {e.cmd} failed with exit code {e.returncode}')\n",
    "        print(f'Stderr: {e.stderr}')"
   ]
  },
  {
   "cell_type": "markdown",
   "id": "cd30df8c-27ca-4454-9508-49e5084b4aae",
   "metadata": {},
   "source": [
    "## Generate SF pb2 files"
   ]
  },
  {
   "cell_type": "code",
   "execution_count": 5,
   "id": "cd4a9270-f4ba-451f-a3f0-acd94b6bea2b",
   "metadata": {},
   "outputs": [],
   "source": [
    "commands = \"\"\"\n",
    "    protogen_py sf/substreams/v1/package.proto;\n",
    "    protogen_py sf/substreams/v1/modules.proto;\n",
    "    protogen_py sf/substreams/v1/clock.proto;\n",
    "\"\"\"\n",
    "generate_pb2_files(commands, spkg_path=f'{SPKG_DIR}/ethereum-explorer-v0.1.2.spkg')"
   ]
  },
  {
   "cell_type": "markdown",
   "id": "cfeee5e2-0050-4596-9246-cc72e0de3320",
   "metadata": {},
   "source": [
    "## Import PB2 packages"
   ]
  },
  {
   "cell_type": "code",
   "execution_count": 6,
   "id": "7f479a63-219b-4b96-80f0-71ace3777892",
   "metadata": {},
   "outputs": [],
   "source": [
    "from sf.substreams.v1.package_pb2 import Package\n",
    "# Only used for typing\n",
    "from sf.substreams.v1.modules_pb2 import Module"
   ]
  },
  {
   "cell_type": "markdown",
   "id": "e5ab59a0-56a7-4477-b6bd-50805b99916c",
   "metadata": {},
   "source": [
    "## Read a Package from a filepath"
   ]
  },
  {
   "cell_type": "code",
   "execution_count": 7,
   "id": "a6f13c3a-d2b4-4a26-8f15-9d5f65d429ff",
   "metadata": {},
   "outputs": [],
   "source": [
    "def read_spkg_file(file_path:str) -> Package:\n",
    "    package = Package()\n",
    "    with open(file_path, 'rb') as file:\n",
    "        package.ParseFromString(file.read())\n",
    "    return package"
   ]
  },
  {
   "cell_type": "markdown",
   "id": "490696db-43f9-4f3b-9335-ad74c81eecc2",
   "metadata": {},
   "source": [
    "## Read a package remotely"
   ]
  },
  {
   "cell_type": "code",
   "execution_count": 8,
   "id": "1448d13e-55f4-4a5d-9962-eb81da028563",
   "metadata": {},
   "outputs": [],
   "source": [
    "def read_spkg_from_url(url:str) -> Package:\n",
    "    response = requests.get(url)\n",
    "    # Raise an error for bad status codes\n",
    "    response.raise_for_status()\n",
    "    package = Package()\n",
    "    package.ParseFromString(response.content)\n",
    "    return package"
   ]
  },
  {
   "cell_type": "markdown",
   "id": "8d237c66-1289-4889-8ee9-f9f01f3487d6",
   "metadata": {},
   "source": [
    "## Read a SPKG Package"
   ]
  },
  {
   "cell_type": "code",
   "execution_count": 9,
   "id": "74bcf750-7054-4fd9-90c7-076534f5b12b",
   "metadata": {},
   "outputs": [],
   "source": [
    "def read_spkg(location:str) -> Package:\n",
    "    if location.startswith('http'):\n",
    "        package = read_spkg_from_url(location)\n",
    "    else:\n",
    "        package = read_spkg_file(location)\n",
    "    return package"
   ]
  },
  {
   "cell_type": "markdown",
   "id": "00282678-88ae-4b10-848b-9dbb92725674",
   "metadata": {},
   "source": [
    "## Test reading SPKG Packages"
   ]
  },
  {
   "cell_type": "code",
   "execution_count": 10,
   "id": "c7f20abc-1a98-4f51-82cd-d9b0567dd6f7",
   "metadata": {},
   "outputs": [],
   "source": [
    "# file approach\n",
    "package = read_spkg(location=f'{SPKG_DIR}/ethereum-explorer-v0.1.2.spkg')\n",
    "assert package.__class__.__name__ == 'Package', 'Incorrect package'\n",
    "assert package.network == 'mainnet', 'Expected mainnet'\n",
    "\n",
    "# url approach\n",
    "package_url = read_spkg(location='https://spkg.io/v1/packages/ethereum_explorer/v0.1.2')\n",
    "\n",
    "# Both package and package_url are same\n",
    "assert package_url.__class__.__name__ == package.__class__.__name__, 'Incorrect package'\n",
    "assert package_url.network == package.network, 'Expected mainnet'"
   ]
  },
  {
   "cell_type": "markdown",
   "id": "374813c8-c7a3-444c-9ad2-4bd244668cd0",
   "metadata": {},
   "source": [
    "## Read PB files in a package\n",
    "### Reference: [substream](https://github.com/messari/substreams-python/blob/master/substreams/substream.py)"
   ]
  },
  {
   "cell_type": "code",
   "execution_count": 11,
   "id": "10ebcb76-a1fb-44fa-9093-621a3fccdf7a",
   "metadata": {},
   "outputs": [],
   "source": [
    "def get_proto_file_map(pkg:Package) -> dict[str, str]:\n",
    "   name_map = {}\n",
    "   for pf in pkg.proto_files:\n",
    "       for mt in pf.message_type:\n",
    "           name_map[mt.name] = pf.name\n",
    "   return name_map"
   ]
  },
  {
   "cell_type": "markdown",
   "id": "726f86fe-3ce0-4ca0-85a0-e0b4831fa283",
   "metadata": {},
   "source": [
    "## Test Proto file maps"
   ]
  },
  {
   "cell_type": "code",
   "execution_count": 12,
   "id": "ed6b82d5-cdda-4068-bba0-7c554a711912",
   "metadata": {},
   "outputs": [],
   "source": [
    "proto_map = get_proto_file_map(pkg=package)\n",
    "assert proto_map['Package'] == 'sf/substreams/v1/package.proto', 'Expected Package proto is missing'\n",
    "assert proto_map['Modules'] == 'sf/substreams/v1/modules.proto', 'Expected Modules proto is missing'\n",
    "assert proto_map['Clock'] == 'sf/substreams/v1/clock.proto', 'Expected Clock proto is missing'"
   ]
  },
  {
   "cell_type": "markdown",
   "id": "cd4e4e56-0e04-4465-9d4c-d91e3da6de3a",
   "metadata": {},
   "source": [
    "## Returns Custom proto maps\n",
    "#### Filter out sf and google proto maps"
   ]
  },
  {
   "cell_type": "code",
   "execution_count": 13,
   "id": "407399c9-7dd5-4bdf-961a-1f673a400851",
   "metadata": {},
   "outputs": [],
   "source": [
    "def get_custom_proto_file_map(proto_map:dict[str, str]) -> dict[str, str]:\n",
    "    return {x:y for x,y in proto_map.items() if not y.startswith('sf/') and not y.startswith('google/')}"
   ]
  },
  {
   "cell_type": "code",
   "execution_count": 14,
   "id": "1de09bb5-f126-4a4f-868c-5e0ccd1eabb1",
   "metadata": {},
   "outputs": [],
   "source": [
    "custom_proto_map = get_custom_proto_file_map(proto_map=proto_map)\n",
    "assert custom_proto_map['BlockMeta'] == 'block_meta.proto', 'BlockMeta proto is missing'\n",
    "assert custom_proto_map['Event'] == 'event.proto', 'Event proto is missing'"
   ]
  },
  {
   "cell_type": "code",
   "execution_count": 15,
   "id": "b026346e-501e-4235-b5ab-963976e4a145",
   "metadata": {},
   "outputs": [],
   "source": [
    "def get_module_names(pkg:Package) -> list[str]:\n",
    "    return [module.name for module in pkg.modules.modules]"
   ]
  },
  {
   "cell_type": "code",
   "execution_count": 16,
   "id": "3e5c5333-c4f6-4aab-8eea-748c9194cc5b",
   "metadata": {},
   "outputs": [
    {
     "data": {
      "text/plain": [
       "['map_block_meta',\n",
       " 'map_block_full',\n",
       " 'map_filter_transactions',\n",
       " 'map_contract_events']"
      ]
     },
     "execution_count": 16,
     "metadata": {},
     "output_type": "execute_result"
    }
   ],
   "source": [
    "get_module_names(pkg=package)"
   ]
  },
  {
   "cell_type": "markdown",
   "id": "68c94aac-57c3-4a66-9e6b-7d30a4d2ac02",
   "metadata": {},
   "source": [
    "## Returns Module details for given module name"
   ]
  },
  {
   "cell_type": "code",
   "execution_count": 17,
   "id": "0a7deaf2-21e0-4dd4-a39c-fa6733b58a38",
   "metadata": {},
   "outputs": [],
   "source": [
    "def get_module_details(pkg:Package, name:str) -> Module:\n",
    "    assert name in get_module_names(pkg=package), f\"{name} doesn't exist as as a module\"\n",
    "    return [module for module in pkg.modules.modules if module.name == name][0]"
   ]
  },
  {
   "cell_type": "code",
   "execution_count": 18,
   "id": "a7ccc94b-93e8-4374-97b9-c37dc676e453",
   "metadata": {},
   "outputs": [
    {
     "data": {
      "text/plain": [
       "name: \"map_block_meta\"\n",
       "kind_map {\n",
       "  output_type: \"proto:eth.block_meta.v1.BlockMeta\"\n",
       "}\n",
       "binary_entrypoint: \"map_block_meta\"\n",
       "inputs {\n",
       "  source {\n",
       "    type: \"sf.ethereum.type.v2.Block\"\n",
       "  }\n",
       "}\n",
       "output {\n",
       "  type: \"proto:eth.block_meta.v1.BlockMeta\"\n",
       "}"
      ]
     },
     "execution_count": 18,
     "metadata": {},
     "output_type": "execute_result"
    }
   ],
   "source": [
    "get_module_details(pkg=package, name='map_block_meta')"
   ]
  },
  {
   "cell_type": "markdown",
   "id": "69023c06-013f-4dc4-8788-f6bc1cd3177c",
   "metadata": {},
   "source": [
    "## Check the output class for 'map_block_meta'"
   ]
  },
  {
   "cell_type": "code",
   "execution_count": 19,
   "id": "ddf32e8a-fe4a-4ba9-b2da-986512982d8a",
   "metadata": {},
   "outputs": [],
   "source": [
    "def get_output_proto_for_module(pkg:Package, module_name:str) -> str:\n",
    "    output_type = get_module_details(pkg=package, name=module_name).output.type\n",
    "    # Extract fully qualified class name\n",
    "    _, fqcn = output_type.split(':')\n",
    "    \n",
    "    match = re.search(RE_PACKAGE_CLASS, fqcn)\n",
    "    assert match is not None, 'No match found'\n",
    "    class_name = match.group(2)\n",
    "    return proto_map[class_name]"
   ]
  },
  {
   "cell_type": "code",
   "execution_count": 20,
   "id": "382e29b2-1c13-4f91-bcc6-5a2cf3073c76",
   "metadata": {},
   "outputs": [
    {
     "data": {
      "text/plain": [
       "'block_meta.proto'"
      ]
     },
     "execution_count": 20,
     "metadata": {},
     "output_type": "execute_result"
    }
   ],
   "source": [
    "# The associated PB file for our module\n",
    "get_output_proto_for_module(pkg=package, module_name='map_block_meta')"
   ]
  },
  {
   "cell_type": "code",
   "execution_count": 21,
   "id": "82ee42cd-b984-4292-a20e-747d7a01cff4",
   "metadata": {},
   "outputs": [],
   "source": [
    "def create_dir(dir_name:str) -> None:\n",
    "    try:\n",
    "        # Execute the 'mkdir' command, -p ensures no error thrown if the path exists\n",
    "        result = subprocess.run(['mkdir', '-p', dir_name], check=True, capture_output=True, text=True)\n",
    "    except subprocess.CalledProcessError as e:\n",
    "        print(f'CalledProcessError: Command {e.cmd} failed with exit code {e.returncode}')\n",
    "        print(f'Stderr: {e.stderr}')"
   ]
  },
  {
   "cell_type": "markdown",
   "id": "ea1fc179-d392-4764-8eb7-8fd9a076bff5",
   "metadata": {},
   "source": [
    "## Generate PB2 files for module 'map_block_meta'"
   ]
  },
  {
   "cell_type": "code",
   "execution_count": 22,
   "id": "10a167a9-cbfc-4160-8e98-fbb924bfc7d7",
   "metadata": {},
   "outputs": [
    {
     "name": "stdout",
     "output_type": "stream",
     "text": [
      "PB file: block_meta.proto\n"
     ]
    }
   ],
   "source": [
    "# Get the associated PB file\n",
    "proto_file = get_output_proto_for_module(pkg=package, module_name='map_block_meta')\n",
    "print(f'PB file: {proto_file}')\n",
    "\n",
    "# Since there are no paths, we will compile them to a location\n",
    "out_path='./sf/substreams/explorers/ethereum'\n",
    "create_dir(dir_name=out_path)\n",
    "\n",
    "# Generate PB classes from proto file\n",
    "command = f'protogen_py {proto_file}'\n",
    "generate_pb2_files(commands=command, spkg_path=f'{SPKG_DIR}/ethereum-explorer-v0.1.2.spkg', out_path=out_path)"
   ]
  },
  {
   "cell_type": "markdown",
   "id": "407ffc9b-234e-49b6-8eab-cbf991193023",
   "metadata": {},
   "source": [
    "## Returns human readable type and label string"
   ]
  },
  {
   "cell_type": "code",
   "execution_count": 23,
   "id": "186438f9-df8c-4cb0-8a72-951494820f71",
   "metadata": {},
   "outputs": [],
   "source": [
    "def get_human_readable_field_type(field_descriptor:FieldDescriptor) -> (str, str):\n",
    "    type_str = TYPE_NAMES.get(field_descriptor.type, f'UNKNOWN_TYPE_{field_descriptor.type}')\n",
    "    label_str = LABEL_NAMES.get(field_descriptor.label, f'UNKNOWN_LABEL_{field_descriptor.label}')\n",
    "\n",
    "    if field_descriptor.type == FieldDescriptor.TYPE_MESSAGE or \\\n",
    "       field_descriptor.type == FieldDescriptor.TYPE_ENUM:\n",
    "        # For messages and enums, the type name is the full name of the message/enum type\n",
    "        type_str = field_descriptor.message_type.full_name if field_descriptor.message_type else \\\n",
    "                   field_descriptor.enum_type.full_name if field_descriptor.enum_type else type_str\n",
    "    return (label_str, type_str)"
   ]
  },
  {
   "cell_type": "markdown",
   "id": "9ee725b0-8d43-410b-907b-5cc6bbeb184a",
   "metadata": {},
   "source": [
    "## Look into PB output class"
   ]
  },
  {
   "cell_type": "code",
   "execution_count": 24,
   "id": "afbb5072-581a-4ef0-b30d-030bf38049a3",
   "metadata": {},
   "outputs": [],
   "source": [
    "def display_proto_details(field_descriptor:FieldDescriptor) -> None:\n",
    "    print(f'Fields for: {field_descriptor.full_name}')\n",
    "    for field in field_descriptor.fields:\n",
    "        field_name = field.name\n",
    "        field_type = field.type\n",
    "    \n",
    "        label_name, type_name = get_human_readable_field_type(field)\n",
    "        print(f'{label_name} {type_name} {field_name} = {field.number}')"
   ]
  },
  {
   "cell_type": "markdown",
   "id": "af7f5a6c-3dea-4da3-8948-5739feb60356",
   "metadata": {},
   "source": [
    "## Display details of PB class"
   ]
  },
  {
   "cell_type": "code",
   "execution_count": 25,
   "id": "6fa4bd25-1077-400f-bc70-cc4737cdc258",
   "metadata": {},
   "outputs": [
    {
     "name": "stdout",
     "output_type": "stream",
     "text": [
      "Fields for: eth.block_meta.v1.BlockMeta\n",
      "optional uint64 number = 1\n",
      "optional string hash = 2\n",
      "optional string parent_hash = 3\n"
     ]
    }
   ],
   "source": [
    "# Import Generated BlockMeta class\n",
    "from sf.substreams.explorers.ethereum.block_meta_pb2 import BlockMeta\n",
    "block_meta = BlockMeta()\n",
    "# Display proto details using the descriptor\n",
    "display_proto_details(field_descriptor=block_meta.DESCRIPTOR)"
   ]
  },
  {
   "cell_type": "markdown",
   "id": "662d8c10-6dbe-4472-b5e8-a62d52734cd2",
   "metadata": {},
   "source": [
    "## Another Module"
   ]
  },
  {
   "cell_type": "code",
   "execution_count": 26,
   "id": "d9f0618e-1738-4d96-b3a4-9860d0beb684",
   "metadata": {},
   "outputs": [
    {
     "name": "stdout",
     "output_type": "stream",
     "text": [
      "PB file: sf/ethereum/type/v2/type.proto\n",
      "Fields for: sf.ethereum.type.v2.Block\n",
      "optional bytes hash = 2\n",
      "optional uint64 number = 3\n",
      "optional uint64 size = 4\n",
      "optional sf.ethereum.type.v2.BlockHeader header = 5\n",
      "repeated sf.ethereum.type.v2.BlockHeader uncles = 6\n",
      "repeated sf.ethereum.type.v2.TransactionTrace transaction_traces = 10\n",
      "repeated sf.ethereum.type.v2.BalanceChange balance_changes = 11\n",
      "repeated sf.ethereum.type.v2.CodeChange code_changes = 20\n",
      "optional int32 ver = 1\n"
     ]
    }
   ],
   "source": [
    "#1. The associated PB file for our module\n",
    "proto_file = get_output_proto_for_module(pkg=package, module_name='map_block_full')\n",
    "print(f'PB file: {proto_file}')\n",
    "\n",
    "#2. Generate classes using proto file\n",
    "command = f'protogen_py {proto_file}'\n",
    "generate_pb2_files(commands=command, spkg_path=f'{SPKG_DIR}/ethereum-explorer-v0.1.2.spkg')\n",
    "\n",
    "#3. Import the generated class\n",
    "from sf.ethereum.type.v2.type_pb2 import Block\n",
    "\n",
    "#4. Display proto details\n",
    "block = Block()\n",
    "# Display proto details using the descriptor\n",
    "display_proto_details(field_descriptor=block.DESCRIPTOR)"
   ]
  },
  {
   "cell_type": "code",
   "execution_count": null,
   "id": "346cc588-e679-4dde-a327-496d738a9246",
   "metadata": {},
   "outputs": [],
   "source": []
  }
 ],
 "metadata": {
  "kernelspec": {
   "display_name": "Python 3 (ipykernel)",
   "language": "python",
   "name": "python3"
  },
  "language_info": {
   "codemirror_mode": {
    "name": "ipython",
    "version": 3
   },
   "file_extension": ".py",
   "mimetype": "text/x-python",
   "name": "python",
   "nbconvert_exporter": "python",
   "pygments_lexer": "ipython3",
   "version": "3.13.3"
  }
 },
 "nbformat": 4,
 "nbformat_minor": 5
}
