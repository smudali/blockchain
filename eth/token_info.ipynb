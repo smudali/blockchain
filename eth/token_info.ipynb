{
 "cells": [
  {
   "cell_type": "code",
   "execution_count": 1,
   "id": "39ab2776-6452-4f7e-a1ce-684ad996f86f",
   "metadata": {},
   "outputs": [],
   "source": [
    "# !pip install web3\n",
    "# !pip install python-dotenv\n",
    "# !pip install requests"
   ]
  },
  {
   "cell_type": "markdown",
   "id": "86d2fdef-0ecd-4933-bf6f-9757de050460",
   "metadata": {},
   "source": [
    "## Imports"
   ]
  },
  {
   "cell_type": "code",
   "execution_count": 2,
   "id": "4a774848-0e27-4cc6-8484-8b230f6643a3",
   "metadata": {},
   "outputs": [],
   "source": [
    "from web3 import Web3\n",
    "\n",
    "# To read environment property file\n",
    "import os\n",
    "from dotenv import load_dotenv\n",
    "from pathlib import Path\n",
    "\n",
    "# To load ABI\n",
    "import json\n",
    "\n",
    "import requests\n",
    "import json"
   ]
  },
  {
   "cell_type": "markdown",
   "id": "a6f86c24-7a76-4683-a49f-fd45060593f5",
   "metadata": {},
   "source": [
    "## Constants¶"
   ]
  },
  {
   "cell_type": "code",
   "execution_count": 3,
   "id": "6a5e09cb-8b1a-4592-b32d-3b678af0289b",
   "metadata": {},
   "outputs": [],
   "source": [
    "# WETH token contract\n",
    "WETH_TOKEN = '0xC02aaA39b223FE8D0A0e5C4F27eAD9083C756Cc2'\n",
    "\n",
    "# USDT token address\n",
    "USDT_TOKEN = '0xdAC17F958D2ee523a2206206994597C13D831ec7'\n",
    "\n",
    "# USDC token contract\n",
    "USDC_TOKEN = '0xA0b86991c6218b36c1d19D4a2e9Eb0cE3606eB48'\n",
    "\n",
    "# Path to the ERC20 ABI\n",
    "ERC20_ABI_PATH = 'abi/erc20.abi.json'\n",
    "\n",
    "# ERC20 functions\n",
    "ERC20_FUNCTIONS = ['name', 'symbol', 'decimals']\n",
    "\n",
    "# Maps Proxy address for the USDC\n",
    "TOKEN_TO_PROXY = {USDC_TOKEN:'0x43506849D7C04F9138D1A2050bbF3A0c054402dd'}\n",
    "\n",
    "# Etherscan endpoint\n",
    "ETHERSCAN_ENDPOINT = 'https://api.etherscan.io/api'"
   ]
  },
  {
   "cell_type": "markdown",
   "id": "c2acf01b-b4b6-4751-80b1-ef265df2da78",
   "metadata": {},
   "source": [
    "## Load environment variables"
   ]
  },
  {
   "cell_type": "code",
   "execution_count": 4,
   "id": "740bd008-0489-4dd0-a014-bddef23c3fe2",
   "metadata": {},
   "outputs": [],
   "source": [
    "dotenv_path = Path('.env/token')\n",
    "load_dotenv(dotenv_path=dotenv_path)\n",
    "PROVIDER_URL = os.getenv('PROVIDER_URL')\n",
    "ETHERSCAN_API_KEY = os.getenv('ETHERSCAN_API_KEY')"
   ]
  },
  {
   "cell_type": "markdown",
   "id": "e6d9860e-eb17-4651-b217-9179936689fd",
   "metadata": {},
   "source": [
    "## Initialize web3 instance and Load ERC20 ABI"
   ]
  },
  {
   "cell_type": "code",
   "execution_count": 5,
   "id": "e923065d-1d37-45a9-9457-d7e91b6e55d1",
   "metadata": {},
   "outputs": [],
   "source": [
    "# Initialize web3 instance\n",
    "web3 = Web3(Web3.HTTPProvider(PROVIDER_URL))\n",
    "\n",
    "# Load the previously downloaded ERC20 ABI\n",
    "with open(ERC20_ABI_PATH) as f:\n",
    "    erc20_abi = json.load(f)\n",
    "\n",
    "# Cache token contracts - to avoid repeated calls via Etherscan API; address -> contract\n",
    "token_to_contract = {}"
   ]
  },
  {
   "cell_type": "markdown",
   "id": "57b1bdbb-48e2-4c18-ba42-ecb2de4c810e",
   "metadata": {},
   "source": [
    "## Call Token Functions - ERC20"
   ]
  },
  {
   "cell_type": "code",
   "execution_count": 6,
   "id": "5ac0d1be-3214-40a2-8ccb-05738e3e1bdc",
   "metadata": {},
   "outputs": [],
   "source": [
    "def execute_functions_erc20(address:str) -> list:\n",
    "    \"\"\" Returns a list of results of calling functions in ERC20_FUNCTIONS constant\n",
    "    Parameters:\n",
    "    address : str\n",
    "        address of the token to execute funtions\n",
    "    Returns:\n",
    "    list\n",
    "        A list of a list of function call results\n",
    "    \"\"\"\n",
    "    # Create an instance of the function\n",
    "    contract = web3.eth.contract(address=address, abi=erc20_abi)\n",
    "\n",
    "    selected_functions = [x for x in contract.all_functions() if x.name in ERC20_FUNCTIONS]\n",
    "    # Tuple of function name and the result\n",
    "    result = [(x.name, x.call()) for x in selected_functions]\n",
    "    return result"
   ]
  },
  {
   "cell_type": "code",
   "execution_count": 7,
   "id": "5813cf49-5375-451e-8d02-6960ea701c5c",
   "metadata": {},
   "outputs": [
    {
     "data": {
      "text/plain": [
       "[('decimals', 18), ('name', 'Wrapped Ether'), ('symbol', 'WETH')]"
      ]
     },
     "execution_count": 7,
     "metadata": {},
     "output_type": "execute_result"
    }
   ],
   "source": [
    "[x for x in execute_functions_erc20(address=WETH_TOKEN)]"
   ]
  },
  {
   "cell_type": "markdown",
   "id": "75345b18-494c-4256-8818-02153475c321",
   "metadata": {},
   "source": [
    "## Call Token Functions"
   ]
  },
  {
   "cell_type": "code",
   "execution_count": 8,
   "id": "659f0f82-cd15-4af7-804a-a97c15845060",
   "metadata": {},
   "outputs": [],
   "source": [
    "def execute_functions(address:str, function_names:list[str]) -> list:\n",
    "    \"\"\" Returns a list of results of calling functions in the given function names\n",
    "    Parameters:\n",
    "    address : str\n",
    "        address of the token to excute funtions\n",
    "    function_names: list\n",
    "        list of funcions names we need to execute\n",
    "    Returns:\n",
    "    list\n",
    "        A list of function call results\n",
    "    \"\"\"\n",
    "    # Parameters for etherscan API\n",
    "    params = {'module':'contract', 'action':'getabi', 'apikey':{ETHERSCAN_API_KEY}}\n",
    "    # Check for proxy address for the given address\n",
    "    if address in TOKEN_TO_PROXY:\n",
    "        # For a proxy to use the proxy address to get the ABI\n",
    "        params['address'] = TOKEN_TO_PROXY[address]\n",
    "    else:\n",
    "        params['address'] = address\n",
    "    \n",
    "    # Check the cache first\n",
    "    if address in token_to_contract:\n",
    "        contract = token_to_contract[address]\n",
    "    else:        \n",
    "        # Call to get the ABI\n",
    "        response = json.loads(requests.get(url=ETHERSCAN_ENDPOINT, params=params).text)\n",
    "        # Create an instance of the function\n",
    "        contract = web3.eth.contract(address=address, abi=response['result'])\n",
    "        token_to_contract[address] = contract\n",
    "\n",
    "    selected_functions = [x for x in contract.all_functions() if x.name in function_names]\n",
    "    # Tuple of function name and the result\n",
    "    result = [(x.name, x.call()) for x in selected_functions]\n",
    "    return result"
   ]
  },
  {
   "cell_type": "code",
   "execution_count": 9,
   "id": "c56d3f95-ebcf-4e4c-ac1e-2c5098fd465c",
   "metadata": {},
   "outputs": [
    {
     "data": {
      "text/plain": [
       "[('currency', 'USD'),\n",
       " ('decimals', 6),\n",
       " ('name', 'USD Coin'),\n",
       " ('owner', '0xFcb19e6a322b27c06842A71e8c725399f049AE3a'),\n",
       " ('symbol', 'USDC'),\n",
       " ('version', '2')]"
      ]
     },
     "execution_count": 9,
     "metadata": {},
     "output_type": "execute_result"
    }
   ],
   "source": [
    "# [x for x in execute_functions(address=WETH_TOKEN, function_names=ERC20_FUNCTIONS)]\n",
    "[x for x in execute_functions(address=USDC_TOKEN, function_names=ERC20_FUNCTIONS + ['owner', 'version', 'currency'])]\n",
    "# [x for x in execute_functions(address=USDT_TOKEN, function_names=ERC20_FUNCTIONS + ['owner'])]"
   ]
  },
  {
   "cell_type": "markdown",
   "id": "d726cd33-70d5-41af-8137-d80029a437d9",
   "metadata": {},
   "source": [
    "## Support method to get Token functions"
   ]
  },
  {
   "cell_type": "code",
   "execution_count": 10,
   "id": "c0899615-9d9d-42de-86fd-6899a189f4a7",
   "metadata": {},
   "outputs": [],
   "source": [
    "def get_token_functions(address:str) -> list:\n",
    "    \"\"\" Returns a list of token functions\n",
    "    Parameters:\n",
    "    address : str\n",
    "        address of the token to get info\n",
    "        \n",
    "    Returns:\n",
    "    list\n",
    "        A lisof all the functions\n",
    "    \"\"\"\n",
    "    # Get ABI of contract; use etherscan API for verifiable smart contracts ABI\n",
    "    params = {'module':'contract', 'action':'getabi', 'apikey':{ETHERSCAN_API_KEY}}\n",
    "    # Check for proxy address for the given address\n",
    "    if address in TOKEN_TO_PROXY:\n",
    "        # For a proxy to use the proxy address to get the ABI\n",
    "        params['address'] = TOKEN_TO_PROXY[address]\n",
    "    else:\n",
    "        params['address'] = address\n",
    "\n",
    "    # Check the cache first\n",
    "    if address in token_to_contract:\n",
    "        print('found {address} in the cache'.format(address=address))\n",
    "        contract = token_to_contract[address]\n",
    "    else:            \n",
    "        # Call to get the ABI\n",
    "        response = json.loads(requests.get(url=ETHERSCAN_ENDPOINT, params=params).text)\n",
    "        contract = web3.eth.contract(address=address, abi=response['result'])\n",
    "        token_to_contract[address] = contract\n",
    "    return contract.all_functions()"
   ]
  },
  {
   "cell_type": "code",
   "execution_count": 11,
   "id": "54892d07-9a2d-4011-a4ad-a87a8ced86d2",
   "metadata": {},
   "outputs": [
    {
     "data": {
      "text/plain": [
       "[<Function allowance(address,address)>,\n",
       " <Function approve(address,uint256)>,\n",
       " <Function balanceOf(address)>,\n",
       " <Function decimals()>,\n",
       " <Function deposit()>,\n",
       " <Function name()>,\n",
       " <Function symbol()>,\n",
       " <Function totalSupply()>,\n",
       " <Function transfer(address,uint256)>,\n",
       " <Function transferFrom(address,address,uint256)>,\n",
       " <Function withdraw(uint256)>]"
      ]
     },
     "execution_count": 11,
     "metadata": {},
     "output_type": "execute_result"
    }
   ],
   "source": [
    "get_token_functions(WETH_TOKEN)"
   ]
  },
  {
   "cell_type": "code",
   "execution_count": 12,
   "id": "2da46180-8564-4d40-80d5-d84bfe5a76cb",
   "metadata": {},
   "outputs": [],
   "source": [
    "# get_token_functions(USDT_TOKEN)"
   ]
  },
  {
   "cell_type": "code",
   "execution_count": 13,
   "id": "90e556ad-e907-4c67-aa7f-51d88516ba84",
   "metadata": {},
   "outputs": [],
   "source": [
    "# get_token_functions(USDC_TOKEN)"
   ]
  },
  {
   "cell_type": "code",
   "execution_count": null,
   "id": "83803853-be5d-430e-b3ae-a907058809fd",
   "metadata": {},
   "outputs": [],
   "source": []
  }
 ],
 "metadata": {
  "kernelspec": {
   "display_name": "Python 3 (ipykernel)",
   "language": "python",
   "name": "python3"
  },
  "language_info": {
   "codemirror_mode": {
    "name": "ipython",
    "version": 3
   },
   "file_extension": ".py",
   "mimetype": "text/x-python",
   "name": "python",
   "nbconvert_exporter": "python",
   "pygments_lexer": "ipython3",
   "version": "3.13.2"
  }
 },
 "nbformat": 4,
 "nbformat_minor": 5
}
