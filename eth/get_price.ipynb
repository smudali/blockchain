{
 "cells": [
  {
   "cell_type": "code",
   "execution_count": 1,
   "id": "ef13051c-99e3-4785-b775-e119debf58d2",
   "metadata": {},
   "outputs": [],
   "source": [
    "# !pip install web3\n",
    "# !pip install python-dotenv\n",
    "# !pip install requests"
   ]
  },
  {
   "cell_type": "markdown",
   "id": "4d2bb1af-e206-455f-8656-ba44bdb91371",
   "metadata": {},
   "source": [
    "## Imports"
   ]
  },
  {
   "cell_type": "code",
   "execution_count": 2,
   "id": "7ee88e4f-6376-48b4-893a-eda8a19062dc",
   "metadata": {},
   "outputs": [],
   "source": [
    "from web3 import Web3\n",
    "\n",
    "# To read environment property file\n",
    "import os\n",
    "from dotenv import load_dotenv\n",
    "from pathlib import Path\n",
    "\n",
    "# To load ABI\n",
    "import json\n",
    "\n",
    "import requests\n",
    "# For processing large numbers\n",
    "from decimal import Decimal"
   ]
  },
  {
   "cell_type": "markdown",
   "id": "975f4e82-30c1-4f7f-b540-72af51ba2608",
   "metadata": {},
   "source": [
    "## Constants"
   ]
  },
  {
   "cell_type": "code",
   "execution_count": 3,
   "id": "8fdc79f9-a353-42e9-a760-c15688132935",
   "metadata": {},
   "outputs": [],
   "source": [
    "# Uniswap v3 Factory address\n",
    "UNISWAP_V3_FACTORY = '0x1F98431c8aD98523631AE4a59f267346ea31F984'\n",
    "\n",
    "# Etherscan endpoint\n",
    "ETHERSCAN_ENDPOINT = 'https://api.etherscan.io/api'\n",
    "\n",
    "# Token0 (USDC) token contract\n",
    "TOKEN0 = '0xA0b86991c6218b36c1d19D4a2e9Eb0cE3606eB48'\n",
    "\n",
    "# Token1 (WETH) token contract\n",
    "TOKEN1 = '0xC02aaA39b223FE8D0A0e5C4F27eAD9083C756Cc2'\n",
    "\n",
    "# Fees 0.05% == 500\n",
    "FEES = 500\n",
    "\n",
    "# Uniswap v3 Pool  ABI path\n",
    "POOL_ABI = 'abi/uniswap_pool_abi.json'\n",
    "\n",
    "# Path to the ERC20 ABI\n",
    "ERC20_ABI = 'abi/erc20.json'"
   ]
  },
  {
   "cell_type": "markdown",
   "id": "79017a97-acbd-41de-ad15-f99cab93c250",
   "metadata": {},
   "source": [
    "## Load environment variables"
   ]
  },
  {
   "cell_type": "code",
   "execution_count": 4,
   "id": "0599f651-355c-4dd5-8d61-f452fd7fd8db",
   "metadata": {},
   "outputs": [],
   "source": [
    "dotenv_path = Path('.env/price')\n",
    "load_dotenv(dotenv_path=dotenv_path)\n",
    "PROVIDER_URL = os.getenv('PROVIDER_URL')\n",
    "ETHERSCAN_API_KEY = os.getenv('ETHERSCAN_API_KEY')"
   ]
  },
  {
   "cell_type": "code",
   "execution_count": 5,
   "id": "949e0390-f91e-45c4-8b43-e9be6d2e7a39",
   "metadata": {},
   "outputs": [],
   "source": [
    "def get_univ3_factory_abi() -> str:\n",
    "    \"\"\" Returns Uniswap v3 factory ABI\n",
    "        \n",
    "    Returns:\n",
    "    str\n",
    "        The factory ABI or None for errors\n",
    "    \"\"\"\n",
    "    # Get ABI of contract; use etherscan API for verifiable smart contracts ABI\n",
    "    params = {'module':'contract', 'action':'getabi', 'address':{UNISWAP_V3_FACTORY}, 'apikey':{ETHERSCAN_API_KEY}}\n",
    "    response = json.loads(requests.get(url=ETHERSCAN_ENDPOINT, params=params).text)\n",
    "    if response['status'] == '1':\n",
    "        return json.loads(response['result'])\n",
    "    return None"
   ]
  },
  {
   "cell_type": "markdown",
   "id": "acdfff94-2d68-4095-b0b2-7b8813369acf",
   "metadata": {},
   "source": [
    "## Get Token Prices\n",
    "### Reference: [A Primer on Uniswap v3 Math: As Easy As 1, 2, v3](https://blog.uniswap.org/uniswap-v3-math-primer)"
   ]
  },
  {
   "cell_type": "code",
   "execution_count": 6,
   "id": "f8be5364-ecec-4121-a8d7-0829deb8f7c2",
   "metadata": {},
   "outputs": [],
   "source": [
    "def get_price(sqrt_price_x96:int, decimal0:int, decimal1:int):\n",
    "    \"\"\" Returns Get the two token prices of the pool\n",
    "    Parameters:\n",
    "    sqrt_price_x96 : int\n",
    "        from the pool's slot0 call\n",
    "    decimal0: int\n",
    "        number of decimals for token0\n",
    "    decimal1: int\n",
    "        number of decimals for token1\n",
    "\n",
    "    Returns:\n",
    "    tuple\n",
    "        A tuple consisting of token0 and token1 prices\n",
    "    \"\"\"\n",
    "    buy_one_of_token0 = round(((sqrt_price_x96 / Decimal(2)**96)**2) /\n",
    "                              (Decimal(10)**decimal1 / Decimal(10)**decimal0), decimal1)    \n",
    "    buy_one_of_token1 = round((1 / buy_one_of_token0), decimal0)\n",
    "    \n",
    "    return (buy_one_of_token0, buy_one_of_token1)"
   ]
  },
  {
   "cell_type": "code",
   "execution_count": 7,
   "id": "9635d0b3-2f29-4643-9152-36f60d871779",
   "metadata": {},
   "outputs": [],
   "source": [
    "factory_abi = get_univ3_factory_abi()\n",
    "assert factory_abi != None, 'Factory ABI not available'\n",
    "\n",
    "# Load the previously downloaded pool ABI\n",
    "with open(POOL_ABI) as f:\n",
    "    pool_abi = json.load(f)\n",
    "assert pool_abi != None, 'Pool ABI not available'\n",
    "\n",
    "# Load ERC20 ABIs to get decimails for token0 and token1\n",
    "with open(ERC20_ABI) as f:\n",
    "    erc20_abi = json.load(f)\n",
    "assert erc20_abi != None, 'ERC20 ABI not available'\n",
    "\n",
    "# Create factory contract\n",
    "web3 = Web3(Web3.HTTPProvider(PROVIDER_URL))\n",
    "factory_contract = web3.eth.contract(address=web3.to_checksum_address(value=UNISWAP_V3_FACTORY), abi=factory_abi)\n",
    "assert factory_contract != None, 'Factory contract does not exist'\n",
    "\n",
    "# Get pool contract for token0 and token1\n",
    "pool_address = factory_contract.functions.getPool(TOKEN1, TOKEN0, FEES).call()\n",
    "pool_contract = web3.eth.contract(address=pool_address, abi=pool_abi)\n",
    "assert pool_contract != None, 'Pool contract does not exist for token0 and token1'"
   ]
  },
  {
   "cell_type": "markdown",
   "id": "516deebe-69cf-48c9-b96c-bff0b1478a80",
   "metadata": {},
   "source": [
    "## Call Get Price"
   ]
  },
  {
   "cell_type": "code",
   "execution_count": 8,
   "id": "6ad5e4a6-e845-483a-8591-0087c0e8428d",
   "metadata": {},
   "outputs": [],
   "source": [
    "def display_current_price() -> None:\n",
    "    \"\"\" Displays the current token0 and token1 prices for the pool. This\n",
    "    pool has two tokens: TOKEN0 and TOKEN1 with FEES\n",
    "    \"\"\"    \n",
    "    token0_address = pool_contract.functions.token0().call()\n",
    "    token0_contract = web3.eth.contract(address=token0_address, abi=erc20_abi)\n",
    "    decimal0 = token0_contract.functions.decimals().call()\n",
    "    \n",
    "    token1_address = pool_contract.functions.token1().call()\n",
    "    token1_contract = web3.eth.contract(address=token1_address, abi=erc20_abi)\n",
    "    decimal1 = token1_contract.functions.decimals().call()\n",
    "    \n",
    "    sqrtx96 = pool_contract.functions.slot0().call()[0]\n",
    "    \n",
    "    token0_sym = token0_contract.functions.symbol.call()\n",
    "    token1_sym = token1_contract.functions.symbol.call()\n",
    "    \n",
    "    # We have all the data ready to call get_price\n",
    "    token0_price, token1_price = get_price(sqrt_price_x96=sqrtx96,\n",
    "                                           decimal0=decimal0, decimal1=decimal1)\n",
    "    print('price of {token0} in value of {token1} : {price}'.format(\n",
    "        token0=token0_sym, token1=token1_sym, price=token0_price))\n",
    "    print('price of {token1} in value of {token0} : {price}'.format(\n",
    "        token1=token1_sym, token0=token0_sym, price=token1_price))"
   ]
  },
  {
   "cell_type": "code",
   "execution_count": 9,
   "id": "975da13b-e73c-4005-98e3-aac0c7ffb395",
   "metadata": {},
   "outputs": [
    {
     "name": "stdout",
     "output_type": "stream",
     "text": [
      "price of USDC in value of WETH : 0.000500840936136297\n",
      "price of WETH in value of USDC : 1996.641903\n"
     ]
    }
   ],
   "source": [
    "display_current_price()"
   ]
  },
  {
   "cell_type": "markdown",
   "id": "af066baf-876f-44e2-ba4c-31cb5e01982c",
   "metadata": {},
   "source": [
    "## Swap price - Approach 1"
   ]
  },
  {
   "cell_type": "code",
   "execution_count": 10,
   "id": "8918a8d0-eea8-45b3-89b4-4d29381a5077",
   "metadata": {},
   "outputs": [],
   "source": [
    "def display_swap_price_1(processed_log:dict, pool_abi:str, erc20_abi:str) -> None:\n",
    "    \"\"\" Displays swap price - method 1\n",
    "    Parameters:\n",
    "    processed_log : dict\n",
    "        A dictionary containing processed log items\n",
    "    pool_abi:\n",
    "        Pool ABI\n",
    "    erc20_abi:\n",
    "        ERC20 ABI\n",
    "    \"\"\"    \n",
    "    # print(processed_log)\n",
    "    pool_address = processed_log['address']\n",
    "    pool_contract = web3.eth.contract(address=pool_address, abi=pool_abi)\n",
    "    assert pool_contract != None, 'Pool contract must exist'\n",
    "\n",
    "    sqrt_priceX96 = processed_log['args']['sqrtPriceX96']\n",
    "    \n",
    "    # Get decimals from token contracts\n",
    "    token0_address = pool_contract.functions.token0().call()\n",
    "    token0_contract = web3.eth.contract(address=token0_address, abi=erc20_abi)\n",
    "    decimal0 = token0_contract.functions.decimals().call()\n",
    "    token0_sym = token0_contract.functions.symbol.call()\n",
    "    \n",
    "    token1_address = pool_contract.functions.token1().call()\n",
    "    token1_contract = web3.eth.contract(address=token1_address, abi=erc20_abi)\n",
    "    decimal1 = token1_contract.functions.decimals().call()\n",
    "    token1_sym = token1_contract.functions.symbol.call()\n",
    "    \n",
    "    # We have all the data ready to call get_price\n",
    "    token0_price, token1_price = get_price(sqrt_price_x96=sqrt_priceX96, decimal0=decimal0, decimal1=decimal1)\n",
    "    print('price of {token0} in value of {token1} : {price}'.format(\n",
    "        token0=token0_sym, token1=token1_sym, price=token0_price))\n",
    "    print('price of {token1} in value of {token0} : {price}'.format(\n",
    "        token1=token1_sym, token0=token0_sym, price=token1_price))"
   ]
  },
  {
   "cell_type": "code",
   "execution_count": 11,
   "id": "0609b462-ae1c-4880-8ce1-e8d4f52e3319",
   "metadata": {},
   "outputs": [
    {
     "name": "stdout",
     "output_type": "stream",
     "text": [
      "price of USDC in value of WETH : 0.000440269867806333\n",
      "price of WETH in value of USDC : 2271.334182\n"
     ]
    }
   ],
   "source": [
    "tran_hash='0x8bab544f6f87449d25b9e4cef8e2d59f1771050b10cae2c17af1f35eceeffdf9'\n",
    "receipt = web3.eth.get_transaction_receipt(tran_hash)\n",
    "log = [x for x in receipt.logs if x['logIndex'] == 59][0]\n",
    "processed_log = pool_contract.events['Swap']().process_log(log)\n",
    "display_swap_price_1(processed_log=processed_log, pool_abi=pool_abi, erc20_abi=erc20_abi)"
   ]
  },
  {
   "cell_type": "markdown",
   "id": "b60063aa-aab9-42ec-b53e-a1f7f1c06693",
   "metadata": {},
   "source": [
    "## Swap price - Approach 2"
   ]
  },
  {
   "cell_type": "code",
   "execution_count": 12,
   "id": "b10d95ed-5501-40c4-aa6f-97304e97c718",
   "metadata": {},
   "outputs": [],
   "source": [
    "def display_swap_price_2(processed_log:dict, pool_abi:str, erc20_abi:str) -> None:\n",
    "    \"\"\" Displays swap price - method 1\n",
    "    Parameters:\n",
    "    processed_log : dict\n",
    "        A dictionary containing processed log items\n",
    "    pool_abi:\n",
    "        Pool ABI\n",
    "    erc20_abi:\n",
    "        ERC20 ABI\n",
    "    \"\"\"\n",
    "    # print(processed_log)\n",
    "    pool_address = processed_log['address']\n",
    "    pool_contract = web3.eth.contract(address=pool_address, abi=pool_abi)\n",
    "    assert pool_contract != None, 'Pool contract must exist'\n",
    "    \n",
    "    # Get decimals from token contracts\n",
    "    token0_address = pool_contract.functions.token0().call()\n",
    "    token0_contract = web3.eth.contract(address=token0_address, abi=erc20_abi)\n",
    "    decimal0 = token0_contract.functions.decimals().call()\n",
    "    token0_sym = token0_contract.functions.symbol.call()\n",
    "    \n",
    "    token1_address = pool_contract.functions.token1().call()\n",
    "    token1_contract = web3.eth.contract(address=token1_address, abi=erc20_abi)\n",
    "    decimal1 = token1_contract.functions.decimals().call()\n",
    "    token1_sym = token1_contract.functions.symbol.call()\n",
    "    \n",
    "    amount0 = processed_log['args']['amount0']/pow(10, decimal0)\n",
    "    amount1 = processed_log['args']['amount1']/pow(10, decimal1)\n",
    "       \n",
    "    if amount0 < 0:\n",
    "        print('Sell {amount1} {symbol1} for {amount0} {symbol0} at {price}'.format(\n",
    "            amount1=amount1, symbol1=token1_sym, amount0=(amount0 * -1), symbol0=token0_sym,\n",
    "            price=((amount0 * -1) / amount1)))\n",
    "    else:\n",
    "        print('Buy {amount1} {symbol1} for {amount0} {symbol0} at {price}'.format(\n",
    "            amount1=(amount1 * -1), symbol1=token1_sym, amount0=amount0, symbol0=token0_sym,\n",
    "            price=((amount1 * -1) / amount0)))"
   ]
  },
  {
   "cell_type": "code",
   "execution_count": 13,
   "id": "09acbc41-3ab5-41f0-b123-e95daf5b293b",
   "metadata": {},
   "outputs": [
    {
     "name": "stdout",
     "output_type": "stream",
     "text": [
      "Sell 1.4703945749634444 WETH for 3340.659443 USDC at 2271.947611805527\n"
     ]
    }
   ],
   "source": [
    "tran_hash='0x8bab544f6f87449d25b9e4cef8e2d59f1771050b10cae2c17af1f35eceeffdf9'\n",
    "receipt = web3.eth.get_transaction_receipt(tran_hash)\n",
    "log = [x for x in receipt.logs if x['logIndex'] == 59][0]\n",
    "processed_log = pool_contract.events['Swap']().process_log(log)\n",
    "display_swap_price_2(processed_log=processed_log, pool_abi=pool_abi, erc20_abi=erc20_abi)"
   ]
  },
  {
   "cell_type": "code",
   "execution_count": 14,
   "id": "20692e92-3ed4-407c-80a9-3d6153f9bc57",
   "metadata": {},
   "outputs": [
    {
     "name": "stdout",
     "output_type": "stream",
     "text": [
      "Sell 3948.739085 USDT for 2.022856414386138 WETH at 0.0005122790771541031\n"
     ]
    }
   ],
   "source": [
    "tran_hash='0x6704da4b05ed0e8d2ed2cd428777a11383994019427e46dc32af4bc81bdc87c2'\n",
    "receipt = web3.eth.get_transaction_receipt(tran_hash)\n",
    "log = [x for x in receipt.logs if x['logIndex'] == 169][0]\n",
    "processed_log = pool_contract.events['Swap']().process_log(log)\n",
    "display_swap_price_2(processed_log=processed_log, pool_abi=pool_abi, erc20_abi=erc20_abi)"
   ]
  },
  {
   "cell_type": "code",
   "execution_count": 15,
   "id": "d8fcabea-c03c-445e-851a-45bf610872e2",
   "metadata": {},
   "outputs": [
    {
     "name": "stdout",
     "output_type": "stream",
     "text": [
      "Buy 3948.739085 USDT for 3947.826815 USDC at 1.0002310815653144\n"
     ]
    }
   ],
   "source": [
    "tran_hash='0x6704da4b05ed0e8d2ed2cd428777a11383994019427e46dc32af4bc81bdc87c2'\n",
    "receipt = web3.eth.get_transaction_receipt(tran_hash)\n",
    "log = [x for x in receipt.logs if x['logIndex'] == 166][0]\n",
    "processed_log = pool_contract.events['Swap']().process_log(log)\n",
    "display_swap_price_2(processed_log=processed_log, pool_abi=pool_abi, erc20_abi=erc20_abi)"
   ]
  }
 ],
 "metadata": {
  "kernelspec": {
   "display_name": "Python 3 (ipykernel)",
   "language": "python",
   "name": "python3"
  },
  "language_info": {
   "codemirror_mode": {
    "name": "ipython",
    "version": 3
   },
   "file_extension": ".py",
   "mimetype": "text/x-python",
   "name": "python",
   "nbconvert_exporter": "python",
   "pygments_lexer": "ipython3",
   "version": "3.13.2"
  }
 },
 "nbformat": 4,
 "nbformat_minor": 5
}
