{
 "cells": [
  {
   "cell_type": "code",
   "execution_count": 1,
   "id": "52208e5f-3636-4a88-af24-867374218e10",
   "metadata": {},
   "outputs": [],
   "source": [
    "# !pip install web3\n",
    "# !pip install python-dotenv\n",
    "# !pip install requests"
   ]
  },
  {
   "cell_type": "markdown",
   "id": "da1e9cde-c3de-4413-9326-b4e0f36bd700",
   "metadata": {},
   "source": [
    "## Imports"
   ]
  },
  {
   "cell_type": "code",
   "execution_count": 2,
   "id": "548fdeb8-e5c5-437c-a6bf-ce34e0ac09cc",
   "metadata": {},
   "outputs": [],
   "source": [
    "from web3 import Web3\n",
    "\n",
    "# To read environment property file\n",
    "import os\n",
    "from dotenv import load_dotenv\n",
    "from pathlib import Path\n",
    "\n",
    "# To load ABI\n",
    "import json\n",
    "\n",
    "# For Http calls\n",
    "import requests\n",
    "\n",
    "# Import math Library\n",
    "import math"
   ]
  },
  {
   "cell_type": "markdown",
   "id": "9be2a7b5-6a61-4d20-9e8f-aa7e75886bc4",
   "metadata": {},
   "source": [
    "## Constants"
   ]
  },
  {
   "cell_type": "code",
   "execution_count": 3,
   "id": "11ab854f-ba1a-4c72-93eb-3d24b9fbaa87",
   "metadata": {},
   "outputs": [],
   "source": [
    "# Uniswap v3 Factory address\n",
    "UNISWAP_V3_FACTORY = '0x1F98431c8aD98523631AE4a59f267346ea31F984'\n",
    "\n",
    "# Uniswap v3 NFT Manager\n",
    "NFT_POSITION_MANAGER = '0xC36442b4a4522E871399CD717aBDD847Ab11FE88'\n",
    "\n",
    "# Etherscan endpoint\n",
    "ETHERSCAN_ENDPOINT = 'https://api.etherscan.io/api'\n",
    "\n",
    "# Uniswap v3 Pool  ABI path\n",
    "POOL_ABI = 'abi/uniswap_pool_abi.json'\n",
    "\n",
    "# Path to the ERC20 ABI\n",
    "ERC20_ABI = 'abi/erc20.json'\n",
    "\n",
    "# Constants for Uniswap maths\n",
    "Q96 = 2 ** 96\n",
    "MAX_UINT128 = 2**128 - 1"
   ]
  },
  {
   "cell_type": "markdown",
   "id": "0c63dc0c-d4ba-4587-b164-84543c22500e",
   "metadata": {},
   "source": [
    "## Load environment variables"
   ]
  },
  {
   "cell_type": "code",
   "execution_count": 4,
   "id": "ea20a7c8-46f1-4711-a130-3a58882a1f7e",
   "metadata": {},
   "outputs": [],
   "source": [
    "dotenv_path = Path('.env/nft_amounts')\n",
    "load_dotenv(dotenv_path=dotenv_path)\n",
    "PROVIDER_URL = os.getenv('PROVIDER_URL')\n",
    "ETHERSCAN_API_KEY = os.getenv('ETHERSCAN_API_KEY')"
   ]
  },
  {
   "cell_type": "markdown",
   "id": "92b2c2bf-528b-41bc-a112-443c166620ad",
   "metadata": {},
   "source": [
    "## Method to get Uniswap v3 factory"
   ]
  },
  {
   "cell_type": "code",
   "execution_count": 5,
   "id": "1a55e41f-a17b-4ca2-857f-ff8a25c3fa65",
   "metadata": {},
   "outputs": [],
   "source": [
    "def get_abi(address:str) -> str:\n",
    "    \"\"\" Returns the ABI for given address\n",
    "        \n",
    "    Returns:\n",
    "    str\n",
    "        The factory ABI or None for errors\n",
    "    \"\"\"\n",
    "    # Get ABI of contract; use etherscan API for verifiable smart contracts ABI\n",
    "    params = {'module':'contract', 'action':'getabi', 'address':{address}, 'apikey':{ETHERSCAN_API_KEY}}\n",
    "    response = json.loads(requests.get(url=ETHERSCAN_ENDPOINT, params=params).text)\n",
    "    if response['status'] == '1':\n",
    "        return json.loads(response['result'])\n",
    "    return None"
   ]
  },
  {
   "cell_type": "code",
   "execution_count": 6,
   "id": "2659e151-aeb1-40ab-93c0-05760ae0140a",
   "metadata": {},
   "outputs": [],
   "source": [
    "# Instantiate web3 instance for us to interact with the chain\n",
    "web3 = Web3(Web3.HTTPProvider(PROVIDER_URL))\n",
    "\n",
    "# NFT ABI\n",
    "nft_abi = get_abi(address=NFT_POSITION_MANAGER)\n",
    "assert nft_abi != None, 'NFT Position Manager ABI not available'\n",
    "\n",
    "# Create nft contract\n",
    "nft_contract = web3.eth.contract(address=NFT_POSITION_MANAGER, abi=nft_abi)\n",
    "assert nft_contract != None, 'NFT contract does not exist'\n",
    "\n",
    "# Uniswap Factory ABI\n",
    "factory_abi = get_abi(address=UNISWAP_V3_FACTORY)\n",
    "assert factory_abi != None, 'Factory ABI not available'\n",
    "\n",
    "# Create factory contract\n",
    "factory_contract = web3.eth.contract(address=UNISWAP_V3_FACTORY, abi=factory_abi)\n",
    "assert factory_contract != None, 'Facory contract does not exist'\n",
    "\n",
    "# Load the previously downloaded pool ABI\n",
    "with open(POOL_ABI) as f:\n",
    "    pool_abi = json.load(f)\n",
    "assert pool_abi != None, 'Pool ABI not available'\n",
    "\n",
    "# Load ERC20 ABIs to get decimails for token0 and token1\n",
    "with open(ERC20_ABI) as f:\n",
    "    erc20_abi = json.load(f)\n",
    "assert erc20_abi != None, 'ERC20 ABI not available'"
   ]
  },
  {
   "cell_type": "code",
   "execution_count": 7,
   "id": "ea708737-6832-4a43-bdc5-6e2b7b6ead1d",
   "metadata": {},
   "outputs": [],
   "source": [
    "# Token ID of interest\n",
    "token_id = 952381\n",
    "\n",
    "# Token position details\n",
    "_,_,token0,token1,fees,tick_lower,tick_upper,\\\n",
    "    liquidity,_,_,_,_, = nft_contract.functions.positions(token_id).call()\n",
    "\n",
    "# No point going further if the liquidity is zero\n",
    "assert liquidity != 0, 'Liquidity must not be zero'\n",
    "\n",
    "# Get pool contract for token0, token1 and fees\n",
    "pool_address = factory_contract.functions.getPool(token0, token1, fees).call()\n",
    "pool_contract = web3.eth.contract(address=pool_address, abi=pool_abi)\n",
    "assert pool_contract != None, 'Pool contract does not exist for token0 and token1'\n",
    "\n",
    "# Get sqrtPriceX96 from pool contract\n",
    "sqrt_priceX96 = pool_contract.functions.slot0().call()[0]\n",
    "\n",
    "# Get token0 decimals\n",
    "token0_address = pool_contract.functions.token0().call()\n",
    "token0_contract = web3.eth.contract(address=token0_address, abi=erc20_abi)\n",
    "decimal0 = token0_contract.functions.decimals().call()\n",
    "\n",
    "# Get token1 decimals\n",
    "token1_address = pool_contract.functions.token1().call()\n",
    "token1_contract = web3.eth.contract(address=token1_address, abi=erc20_abi)\n",
    "decimal1 = token1_contract.functions.decimals().call()"
   ]
  },
  {
   "cell_type": "code",
   "execution_count": 8,
   "id": "3802af48-2e2d-4358-bd12-1b1f337b8122",
   "metadata": {},
   "outputs": [],
   "source": [
    "def convert_wei_to_human(amount:int, decimals:int) -> int:\n",
    "    \"\"\" Converts given amount to human friendly format\n",
    "    Parameters:\n",
    "    amount: \n",
    "        amoutn to convert\n",
    "    decimals : int\n",
    "        number of decimals for the token\n",
    "\n",
    "    Returns:\n",
    "    int\n",
    "        Token amount converted to human friendly format\n",
    "    \"\"\"    \n",
    "    return round((amount/(10**decimals)), decimals)"
   ]
  },
  {
   "cell_type": "markdown",
   "id": "a5f01e59-4b32-4f41-b7c9-1920fe5196eb",
   "metadata": {},
   "source": [
    "## Return the token amounts\n",
    "### Reference: [A Primer on Uniswap v3 Math Part 2: Stay Awake by Reading it Aloud](https://blog.uniswap.org/uniswap-v3-math-primer-2)"
   ]
  },
  {
   "cell_type": "code",
   "execution_count": 9,
   "id": "89f1c196-712e-4051-9cf4-e06960013f1a",
   "metadata": {},
   "outputs": [],
   "source": [
    "def get_token_amounts(liquidity:int, sqrtx96:int, tick_low:int, tick_high:int) -> tuple:\n",
    "    \"\"\" Calculates and returns token amounts\n",
    "    Parameters:\n",
    "    liquidity: int\n",
    "        Liquidity from the NFT position\n",
    "    sqrtx96 : int\n",
    "        from the pool's slot0 call\n",
    "    tick_low: int\n",
    "        low tick position rfom \n",
    "    tick_high : int\n",
    "        high tick position\n",
    "\n",
    "    Returns:\n",
    "    tuple\n",
    "        A tuple consisting of token0 and token1 amounts or zero if the liquidity is zero\n",
    "    \"\"\"    \n",
    "    sqrt_ratio_l = math.sqrt(1.0001**tick_low)\n",
    "    sqrt_ratio_h = math.sqrt(1.0001**tick_high)\n",
    "    current_tick = math.floor(math.log((sqrtx96/Q96)**2)/math.log(1.0001))\n",
    "    sqrt_price = sqrt_priceX96/Q96\n",
    "    amount0 = 0\n",
    "    amount1 = 0\n",
    "    if current_tick < tick_low:\n",
    "        amount0 = math.floor(liquidity*((sqrt_ratio_h - sqrt_ratio_l)/(sqrt_ratio_l * sqrt_ratio_h)))\n",
    "    elif current_tick >= tick_high:\n",
    "        amount1 = math.floor(liquidity*(sqrt_ratio_h - sqrt_ratio_l))\n",
    "    elif current_tick >= tick_low and current_tick < tick_high:\n",
    "        amount0 = math.floor(liquidity*((sqrt_ratio_h - sqrt_price)/(sqrt_price * sqrt_ratio_h)))\n",
    "        amount1 = math.floor(liquidity*(sqrt_price - sqrt_ratio_l))\n",
    "\n",
    "    return (amount0, amount1)"
   ]
  },
  {
   "cell_type": "code",
   "execution_count": 10,
   "id": "29a55d27-bb9b-41a5-900c-c50bd99126c6",
   "metadata": {},
   "outputs": [
    {
     "name": "stdout",
     "output_type": "stream",
     "text": [
      "Amount - Token0: 2.09385807323503 Token1: 29259.694666848405\n"
     ]
    }
   ],
   "source": [
    "amount0, amount1 = get_token_amounts(liquidity, sqrt_priceX96, tick_lower, tick_upper)\n",
    "print('Amount - Token0: {amount0} Token1: {amount1}'.format(\n",
    "    amount0=convert_wei_to_human(amount0, decimal0), amount1=convert_wei_to_human(amount1, decimal1)))"
   ]
  },
  {
   "cell_type": "markdown",
   "id": "05f7cdfc-49a5-4132-bd92-3317285a22d8",
   "metadata": {},
   "source": [
    "## Ranges\n",
    "### Reference: [LIQUIDITY MATH IN UNISWAP V3](https://atiselsts.github.io/pdfs/uniswap-v3-liquidity-math.pdf)"
   ]
  },
  {
   "cell_type": "markdown",
   "id": "2b617a0b-7219-4b93-b406-25586d2ec7fa",
   "metadata": {},
   "source": [
    "## Range (token0 in terms of token1)"
   ]
  },
  {
   "cell_type": "code",
   "execution_count": 11,
   "id": "5b92a78c-9298-4f71-b8ce-f7fb1253fb96",
   "metadata": {},
   "outputs": [
    {
     "name": "stdout",
     "output_type": "stream",
     "text": [
      "Range (token0 in terms of token1) - [18760.48421 - 46141.26906]\n"
     ]
    }
   ],
   "source": [
    "price_a = (1.0001**tick_lower)\n",
    "price_b = (1.0001**tick_upper)\n",
    "# Adjust them\n",
    "price_a_adj = price_a * (10 **(decimal0-decimal1))\n",
    "price_b_adj = price_b * (10 **(decimal0-decimal1))\n",
    "print('Range (token0 in terms of token1) - [{:.5f} - {:.5f}]'.format(price_a_adj, price_b_adj))"
   ]
  },
  {
   "cell_type": "markdown",
   "id": "447949a0-bac5-44e3-8e53-e85ef488fbef",
   "metadata": {},
   "source": [
    "## Range (token1 in terms of token0)"
   ]
  },
  {
   "cell_type": "code",
   "execution_count": 12,
   "id": "198b4a35-3c75-4bd3-8a11-177dfd4c8275",
   "metadata": {},
   "outputs": [
    {
     "name": "stdout",
     "output_type": "stream",
     "text": [
      "Range (token1 in terms of token0) - [0.00002 - 0.00005]\n"
     ]
    }
   ],
   "source": [
    "price_a = (1.0001**tick_lower)\n",
    "price_b = (1.0001**tick_upper)\n",
    "\n",
    "# Adjust them\n",
    "price_a_adj = price_a * (10 **(decimal0-decimal1))\n",
    "price_b_adj = price_b * (10 **(decimal0-decimal1))\n",
    "\n",
    "# Invert to get token1 in terms of token0\n",
    "price_a_adj = 1/price_a_adj\n",
    "price_b_adj = 1/price_b_adj\n",
    "print('Range (token1 in terms of token0) - [{:.5f} - {:.5f}]'.format(price_b_adj, price_a_adj))"
   ]
  },
  {
   "cell_type": "markdown",
   "id": "f6ecbdad-7a69-4cf2-9417-14e379a97dc1",
   "metadata": {},
   "source": [
    "## Unclaimed Fees"
   ]
  },
  {
   "cell_type": "code",
   "execution_count": 13,
   "id": "0718f221-51d8-4b12-b3a3-f0e93c856f18",
   "metadata": {},
   "outputs": [
    {
     "name": "stdout",
     "output_type": "stream",
     "text": [
      "Uncollected Fees - Token0: 0.011358290111891906 Token1: 248.03215759946923\n"
     ]
    }
   ],
   "source": [
    "# We need to get the owner for the token first\n",
    "owner_address = nft_contract.functions.ownerOf(tokenId=token_id).call()\n",
    "collect_dict = {'tokenId' : token_id, 'recipient': owner_address, 'amount0Max': MAX_UINT128, 'amount1Max': MAX_UINT128}\n",
    "amount0, amount1 = nft_contract.functions.collect(collect_dict).call()\n",
    "print('Uncollected Fees - Token0: {amount0} Token1: {amount1}'.format(\n",
    "    amount0=convert_wei_to_human(amount0, decimal0), amount1=convert_wei_to_human(amount1, decimal1)))"
   ]
  }
 ],
 "metadata": {
  "kernelspec": {
   "display_name": "Python 3 (ipykernel)",
   "language": "python",
   "name": "python3"
  },
  "language_info": {
   "codemirror_mode": {
    "name": "ipython",
    "version": 3
   },
   "file_extension": ".py",
   "mimetype": "text/x-python",
   "name": "python",
   "nbconvert_exporter": "python",
   "pygments_lexer": "ipython3",
   "version": "3.13.2"
  }
 },
 "nbformat": 4,
 "nbformat_minor": 5
}
