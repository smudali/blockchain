{
 "cells": [
  {
   "cell_type": "code",
   "execution_count": 1,
   "id": "ef2b9b18-590d-4192-a682-1b33282fe406",
   "metadata": {},
   "outputs": [],
   "source": [
    "# !pip install web3\n",
    "# !pip install python-dotenv\n",
    "# !pip install requests\n",
    "# !pip install pandas"
   ]
  },
  {
   "cell_type": "markdown",
   "id": "16cc6970-5eda-4647-8f45-c65818c15ad0",
   "metadata": {},
   "source": [
    "## Imports"
   ]
  },
  {
   "cell_type": "code",
   "execution_count": 2,
   "id": "57d1cd04-532d-4de1-bd9b-bb9c6d0aa731",
   "metadata": {},
   "outputs": [],
   "source": [
    "from web3 import Web3\n",
    "\n",
    "# For enums\n",
    "from enum import StrEnum, auto\n",
    "\n",
    "# To read environment property file\n",
    "import os\n",
    "from dotenv import load_dotenv\n",
    "from pathlib import Path\n",
    "\n",
    "import requests\n",
    "import json\n",
    "\n",
    "# Importing Pandas to create DataFrame\n",
    "import pandas as pd\n",
    "\n",
    "# For timestamp conversion\n",
    "import time"
   ]
  },
  {
   "cell_type": "markdown",
   "id": "f3465fff-b3c8-41e4-a543-885c63399109",
   "metadata": {},
   "source": [
    "## Constants"
   ]
  },
  {
   "cell_type": "code",
   "execution_count": 3,
   "id": "718609e6-2d01-40d8-bc27-ce3c73769fde",
   "metadata": {},
   "outputs": [],
   "source": [
    "# Contract types\n",
    "class Contract_Type(StrEnum):\n",
    "    SMART = auto()\n",
    "    NFT = auto()\n",
    "\n",
    "# Events\n",
    "class Event(StrEnum):\n",
    "    BURN = 'Burn'\n",
    "    COLLECT = 'Collect'\n",
    "    MINT = 'Mint'\n",
    "    INCREASE_LIQUIDITY = 'IncreaseLiquidity'\n",
    "    DECREASE_LIQUIDITY = 'DecreaseLiquidity'\n",
    "    \n",
    "# Interested events for the smart contract\n",
    "CONTRACT_EVENTS = {\n",
    "    Contract_Type.SMART : [Event.BURN, Event.COLLECT, Event.MINT],\n",
    "    Contract_Type.NFT: [Event.COLLECT, Event.INCREASE_LIQUIDITY, Event.DECREASE_LIQUIDITY]\n",
    "}\n",
    "\n",
    "# Etherscan endpoint\n",
    "ETHERSCAN_ENDPOINT = 'https://api.etherscan.io/api'\n",
    "\n",
    "# Token 0 name, decimals and display (decimals)\n",
    "TOKEN0_NAME = 'USDC'\n",
    "TOKEN0_DECIMALS = 6\n",
    "TOKEN0_DISPLAY = 2\n",
    "\n",
    "# Token 1 name and decimals\n",
    "TOKEN1_NAME = 'WETH'\n",
    "TOKEN1_DECIMALS = 18\n",
    "\n",
    "# Transaction hash we are interested\n",
    "TRAN_HASH = '0x8bab544f6f87449d25b9e4cef8e2d59f1771050b10cae2c17af1f35eceeffdf9'"
   ]
  },
  {
   "cell_type": "markdown",
   "id": "2c9fc31e-a47f-440e-9827-824a80652bd9",
   "metadata": {},
   "source": [
    "## Load environment variables"
   ]
  },
  {
   "cell_type": "code",
   "execution_count": 4,
   "id": "0a68d8bf-6da8-466a-9600-eeb6927e7c1a",
   "metadata": {},
   "outputs": [],
   "source": [
    "dotenv_path = Path('.env/logs')\n",
    "load_dotenv(dotenv_path=dotenv_path)\n",
    "PROVIDER_URL = os.getenv('PROVIDER_URL')\n",
    "SMART_CONTRACT_ADDR = os.getenv('SMART_CONTRACT')\n",
    "NFT_CONTRACT_ADDR = os.getenv('NFT_CONTRACT')\n",
    "ETHERSCAN_API_KEY = os.getenv('ETHERSCAN_API_KEY')\n",
    "SMART_CONTRACT_ABI = os.getenv('SMART_CONTRACT_ABI')"
   ]
  },
  {
   "cell_type": "markdown",
   "id": "da420ecc-80d0-487f-be3f-aac595811dba",
   "metadata": {},
   "source": [
    "## Load the ABIs"
   ]
  },
  {
   "cell_type": "code",
   "execution_count": 5,
   "id": "b227708d-da13-4f69-abba-524727562b3b",
   "metadata": {},
   "outputs": [],
   "source": [
    "# Load the previously downloaded smart contract; unable to download it - Contract source code not verified\n",
    "with open(SMART_CONTRACT_ABI) as f:\n",
    "    smart_abi = json.load(f)\n",
    "\n",
    "# Get ABI of contract; use etherscan API for verifiable smart contracts ABI\n",
    "params = {'module':'contract', 'action':'getabi', 'address':{NFT_CONTRACT_ADDR}, 'apikey':{ETHERSCAN_API_KEY}}\n",
    "response = json.loads(requests.get(url=ETHERSCAN_ENDPOINT, params=params).text)\n",
    "if response['status'] == '1':\n",
    "    nft_abi = json.loads(response['result'])\n",
    "else:\n",
    "    nft_abi = None"
   ]
  },
  {
   "cell_type": "markdown",
   "id": "bcb34a27-4d42-4047-85ee-4b9c6a275665",
   "metadata": {},
   "source": [
    "## Create Smart and NFT contracts"
   ]
  },
  {
   "cell_type": "code",
   "execution_count": 6,
   "id": "b98942cb-82ff-4f45-8849-3e562aa6a8c7",
   "metadata": {},
   "outputs": [],
   "source": [
    "# Initialize web3 instance\n",
    "web3 = Web3(Web3.HTTPProvider(PROVIDER_URL))\n",
    "smart_contract = web3.eth.contract(address=web3.to_checksum_address(SMART_CONTRACT_ADDR), abi=smart_abi)\n",
    "nft_contract = web3.eth.contract(address=web3.to_checksum_address(NFT_CONTRACT_ADDR), abi=nft_abi)"
   ]
  },
  {
   "cell_type": "markdown",
   "id": "bdfb5bfd-5c13-4f3d-a0c8-934ba3a8e07d",
   "metadata": {},
   "source": [
    "## Calculate Event Signatures"
   ]
  },
  {
   "cell_type": "code",
   "execution_count": 7,
   "id": "c35ffca7-2d33-43ac-a321-5912cbf913f9",
   "metadata": {},
   "outputs": [],
   "source": [
    "def event_signature(abi:str, type:Contract_Type) -> {str:str}:\n",
    "    \"\"\" Return event singatures for given ABI type\n",
    "    Parameters:\n",
    "    abi : str\n",
    "        ABI contract\n",
    "    type : Contract_Type\n",
    "        Either SMART or NFT\n",
    "        \n",
    "    Returns:\n",
    "    dict\n",
    "        A dictionary signature hex -> event name\n",
    "    \"\"\"\n",
    "    # Dictionary to return (hex -> name)\n",
    "    signature_to_name = {}\n",
    "    \n",
    "    # Loop through abi skipping the first one\n",
    "    for item in abi[1:]:\n",
    "        ## Only interested in Event types and events in scope\n",
    "        if ((item['type'] == 'event') and (item['name'] in CONTRACT_EVENTS[type])):\n",
    "            name = item['name']\n",
    "            inputs = [param['type'] for param in item['inputs']]\n",
    "            inputs = ','.join(inputs)\n",
    "            # Hash event signature\n",
    "            event_signature_text = f'{name}({inputs})'\n",
    "            event_signature_hex = web3.to_hex(web3.keccak(text=event_signature_text))\n",
    "            signature_to_name[event_signature_hex] = name\n",
    "    return signature_to_name"
   ]
  },
  {
   "cell_type": "markdown",
   "id": "18edb231-43d4-4cb1-aea4-74c445a530ad",
   "metadata": {},
   "source": [
    "## Event Signatures for Smart and NFT Contracts"
   ]
  },
  {
   "cell_type": "code",
   "execution_count": 8,
   "id": "6dda15d8-81c7-41b1-bbaf-9c4c8d9153b3",
   "metadata": {},
   "outputs": [
    {
     "data": {
      "text/plain": [
       "{<Contract_Type.SMART: 'smart'>: {'0x0c396cd989a39f4459b5fa1aed6a9a8dcdbc45908acfd67e028cd568da98982c': 'Burn',\n",
       "  '0x70935338e69775456a85ddef226c395fb668b63fa0115f5f20610b388e6ca9c0': 'Collect',\n",
       "  '0x7a53080ba414158be7ec69b987b5fb7d07dee101fe85488f0853ae16239d0bde': 'Mint'},\n",
       " <Contract_Type.NFT: 'nft'>: {'0x40d0efd1a53d60ecbf40971b9daf7dc90178c3aadc7aab1765632738fa8b8f01': 'Collect',\n",
       "  '0x26f6a048ee9138f2c0ce266f322cb99228e8d619ae2bff30c67f8dcf9d2377b4': 'DecreaseLiquidity',\n",
       "  '0x3067048beee31b25b2f1681f88dac838c8bba36af25bfb2b7cf7473a5847e35f': 'IncreaseLiquidity'}}"
      ]
     },
     "execution_count": 8,
     "metadata": {},
     "output_type": "execute_result"
    }
   ],
   "source": [
    "# Dict to store signatures signature -> event name\n",
    "event_signatures = {}\n",
    "event_signatures[Contract_Type.SMART] = event_signature(smart_abi, Contract_Type.SMART)\n",
    "event_signatures[Contract_Type.NFT] = event_signature(nft_abi, Contract_Type.NFT)\n",
    "event_signatures"
   ]
  },
  {
   "cell_type": "markdown",
   "id": "3571d16e-1a8c-4343-b520-f0fec2778405",
   "metadata": {},
   "source": [
    "## Utility method to create a decoded log"
   ]
  },
  {
   "cell_type": "code",
   "execution_count": 9,
   "id": "b10a3f1c-80d2-4b82-bc89-39c60e1b747d",
   "metadata": {},
   "outputs": [],
   "source": [
    "def create_decoded_log(key:str, search_type:Contract_Type, log:dict) -> dict:\n",
    "    \"\"\" Return a decode log constructed from given raw log event. Each decoded log is a dictionary of values\n",
    "    Parameters:\n",
    "    key : str\n",
    "        key to the event signature\n",
    "    search_type : Contract_Type\n",
    "        Either SMART or NFT\n",
    "\n",
    "    log : dict\n",
    "        Unprocessed log event\n",
    "        \n",
    "    Returns:\n",
    "    dict\n",
    "        A decoded log event\n",
    "    \"\"\"\n",
    "    # The decoded log to return\n",
    "    decoded_log = None\n",
    "\n",
    "    # Set the contract based on search type\n",
    "    contract = smart_contract if (search_type == Contract_Type.SMART) else nft_contract\n",
    "    \n",
    "    # Get the corresponding event name for the signature key\n",
    "    event_name = event_signatures[search_type][key]\n",
    "    \n",
    "    # Process the using event name signature\n",
    "    processed_log = contract.events[event_name]().process_log(log)\n",
    "    amount0_fees = processed_log['args']['amount0']\n",
    "    amount1_fees = processed_log['args']['amount1']\n",
    "    log_index = processed_log['logIndex']\n",
    "    if search_type == Contract_Type.NFT:\n",
    "        token_id = processed_log['args']['tokenId']\n",
    "        decoded_log = {'token_id':token_id, 'log_index':log_index, 'amount0':amount0_fees,\n",
    "                       'amount1':amount1_fees, 'event':event_name}\n",
    "    else:\n",
    "        decoded_log = {'log_index':log_index, 'amount0':amount0_fees, 'amount1':amount1_fees,\n",
    "                       'event':event_name}\n",
    "    return decoded_log"
   ]
  },
  {
   "cell_type": "markdown",
   "id": "bab6350f-7286-4138-a143-7780e4d57455",
   "metadata": {},
   "source": [
    "## Process Event Logs"
   ]
  },
  {
   "cell_type": "code",
   "execution_count": 10,
   "id": "15ef550d-59a8-414d-978f-8d8b4ee8fa21",
   "metadata": {},
   "outputs": [],
   "source": [
    "def process_logs(tran_hash:str, search_type:Contract_Type) -> list[dict]:\n",
    "    \"\"\" Return list of processed logs. Each log is a dictionary of values\n",
    "    Parameters:\n",
    "    tran_hash : str\n",
    "        transaction hash\n",
    "    search_type : Contract_Type\n",
    "        Either SMART or NFT\n",
    "        \n",
    "    Returns:\n",
    "    list\n",
    "        A list of decoded logs\n",
    "    \"\"\"\n",
    "    \n",
    "    # List of decoded logs\n",
    "    decoded_logs = []\n",
    "    \n",
    "    # Get transaction receipt\n",
    "    receipt = web3.eth.get_transaction_receipt(tran_hash)\n",
    "\n",
    "    # Get the transaction from the block\n",
    "    time_stamp = web3.eth.get_block(receipt['blockNumber'])['timestamp']\n",
    "    \n",
    "    for log in receipt.logs:\n",
    "        # Is it a smart contract search?\n",
    "        if search_type == Contract_Type.SMART:                \n",
    "            # Only interested in our smart contract addresses\n",
    "            if log.address != SMART_CONTRACT_ADDR: continue\n",
    "            # Key to search in the signature dict\n",
    "            key = web3.to_hex(log['topics'][0])\n",
    "            # Filter out other smart events not found in the signature map\n",
    "            if key not in event_signatures[search_type]: continue\n",
    "        else:\n",
    "            # Only interested in our NFT contract addresses\n",
    "            if log.address != NFT_CONTRACT_ADDR: continue\n",
    "            # Key to search in the signature dict\n",
    "            key = web3.to_hex(log['topics'][0])\n",
    "            # Filter out other NFT events not found in the signature map\n",
    "            if key not in event_signatures[search_type]: continue\n",
    "        # At this point, we have either smart or nft event we are interested\n",
    "        decoded_log = create_decoded_log(key=key, search_type=search_type, log=log)\n",
    "        decoded_log['time_stamp'] = int(time_stamp)\n",
    "        decoded_logs.append(decoded_log)\n",
    "    return decoded_logs"
   ]
  },
  {
   "cell_type": "markdown",
   "id": "699a4c60-8cc7-4a1d-a25d-3978f4559ffe",
   "metadata": {},
   "source": [
    "## Create a DataFrame"
   ]
  },
  {
   "cell_type": "code",
   "execution_count": 11,
   "id": "7ad783bd-3392-43b3-9210-438ce1e78b12",
   "metadata": {},
   "outputs": [],
   "source": [
    "def create_DF(search_type:Contract_Type) -> pd.DataFrame:\n",
    "    \"\"\" Return a DF created for given search type\n",
    "    Parameters:\n",
    "    search_type : Contract_Type\n",
    "        Either SMART or NFT\n",
    "        \n",
    "    Returns:\n",
    "    pd.DataFrame\n",
    "        A Dataframe\n",
    "    \"\"\"\n",
    "    decoded_logs = process_logs(TRAN_HASH, search_type)\n",
    "    # Create a DF from list of transactions\n",
    "    df = pd.DataFrame.from_records(data=decoded_logs)\n",
    "    if search_type == Contract_Type.SMART:\n",
    "        df.columns = ['LogIndex', TOKEN0_NAME, TOKEN1_NAME, 'Type', 'Timestamp']\n",
    "    else:\n",
    "        df.columns = ['TokenId', 'LogIndex', TOKEN0_NAME, TOKEN1_NAME, 'Type', 'Timestamp']\n",
    "\n",
    "    df['Timestamp'] = df['Timestamp'].apply(lambda x: time.strftime('%Y-%m-%d %H:%M:%S', time.gmtime(x)))\n",
    "    # Apply token decimals\n",
    "    token_divisor = int('1' + ('0' * TOKEN0_DECIMALS))\n",
    "    df[TOKEN0_NAME] = df[TOKEN0_NAME].apply(lambda x : x / token_divisor).round(2)\n",
    "    token_divisor = int('1' + ('0' * TOKEN1_DECIMALS))\n",
    "    df[TOKEN1_NAME] = df[TOKEN1_NAME].apply(lambda x : x / token_divisor)\n",
    "    return df"
   ]
  },
  {
   "cell_type": "code",
   "execution_count": 12,
   "id": "6ae4dcda-ad74-40d0-bc25-bd2a31d9770e",
   "metadata": {},
   "outputs": [
    {
     "data": {
      "text/html": [
       "<style type=\"text/css\">\n",
       "#T_91bf8 th {\n",
       "  text-align: center;\n",
       "}\n",
       "#T_91bf8_row0_col4, #T_91bf8_row1_col4, #T_91bf8_row2_col4 {\n",
       "  text-align: left;\n",
       "}\n",
       "</style>\n",
       "<table id=\"T_91bf8\">\n",
       "  <thead>\n",
       "    <tr>\n",
       "      <th class=\"blank level0\" >&nbsp;</th>\n",
       "      <th id=\"T_91bf8_level0_col0\" class=\"col_heading level0 col0\" >TokenId</th>\n",
       "      <th id=\"T_91bf8_level0_col1\" class=\"col_heading level0 col1\" >LogIndex</th>\n",
       "      <th id=\"T_91bf8_level0_col2\" class=\"col_heading level0 col2\" >USDC</th>\n",
       "      <th id=\"T_91bf8_level0_col3\" class=\"col_heading level0 col3\" >WETH</th>\n",
       "      <th id=\"T_91bf8_level0_col4\" class=\"col_heading level0 col4\" >Type</th>\n",
       "      <th id=\"T_91bf8_level0_col5\" class=\"col_heading level0 col5\" >Timestamp</th>\n",
       "    </tr>\n",
       "  </thead>\n",
       "  <tbody>\n",
       "    <tr>\n",
       "      <th id=\"T_91bf8_level0_row0\" class=\"row_heading level0 row0\" >0</th>\n",
       "      <td id=\"T_91bf8_row0_col0\" class=\"data row0 col0\" >927456</td>\n",
       "      <td id=\"T_91bf8_row0_col1\" class=\"data row0 col1\" >43</td>\n",
       "      <td id=\"T_91bf8_row0_col2\" class=\"data row0 col2\" >0.00</td>\n",
       "      <td id=\"T_91bf8_row0_col3\" class=\"data row0 col3\" >2.983947</td>\n",
       "      <td id=\"T_91bf8_row0_col4\" class=\"data row0 col4\" >DecreaseLiquidity</td>\n",
       "      <td id=\"T_91bf8_row0_col5\" class=\"data row0 col5\" >2025-02-26 19:06:35</td>\n",
       "    </tr>\n",
       "    <tr>\n",
       "      <th id=\"T_91bf8_level0_row1\" class=\"row_heading level0 row1\" >1</th>\n",
       "      <td id=\"T_91bf8_row1_col0\" class=\"data row1 col0\" >927456</td>\n",
       "      <td id=\"T_91bf8_row1_col1\" class=\"data row1 col1\" >47</td>\n",
       "      <td id=\"T_91bf8_row1_col2\" class=\"data row1 col2\" >94.18</td>\n",
       "      <td id=\"T_91bf8_row1_col3\" class=\"data row1 col3\" >3.021172</td>\n",
       "      <td id=\"T_91bf8_row1_col4\" class=\"data row1 col4\" >Collect</td>\n",
       "      <td id=\"T_91bf8_row1_col5\" class=\"data row1 col5\" >2025-02-26 19:06:35</td>\n",
       "    </tr>\n",
       "    <tr>\n",
       "      <th id=\"T_91bf8_level0_row2\" class=\"row_heading level0 row2\" >2</th>\n",
       "      <td id=\"T_91bf8_row2_col0\" class=\"data row2 col0\" >937002</td>\n",
       "      <td id=\"T_91bf8_row2_col1\" class=\"data row2 col1\" >71</td>\n",
       "      <td id=\"T_91bf8_row2_col2\" class=\"data row2 col2\" >3308.10</td>\n",
       "      <td id=\"T_91bf8_row2_col3\" class=\"data row2 col3\" >1.497818</td>\n",
       "      <td id=\"T_91bf8_row2_col4\" class=\"data row2 col4\" >IncreaseLiquidity</td>\n",
       "      <td id=\"T_91bf8_row2_col5\" class=\"data row2 col5\" >2025-02-26 19:06:35</td>\n",
       "    </tr>\n",
       "  </tbody>\n",
       "</table>\n"
      ],
      "text/plain": [
       "<pandas.io.formats.style.Styler at 0x7d829ca3b620>"
      ]
     },
     "execution_count": 12,
     "metadata": {},
     "output_type": "execute_result"
    }
   ],
   "source": [
    "df = create_DF(search_type=Contract_Type.NFT)\n",
    "# Apply styles\n",
    "df_styler = df.style.set_properties(subset=['Type'],**{'text-align': 'left'})\n",
    "df_styler = df_styler.format('{:.2f}', subset=[TOKEN0_NAME])\n",
    "df_styler.set_table_styles([dict(selector='th', props=[('text-align', 'center')])])"
   ]
  }
 ],
 "metadata": {
  "kernelspec": {
   "display_name": "Python 3 (ipykernel)",
   "language": "python",
   "name": "python3"
  },
  "language_info": {
   "codemirror_mode": {
    "name": "ipython",
    "version": 3
   },
   "file_extension": ".py",
   "mimetype": "text/x-python",
   "name": "python",
   "nbconvert_exporter": "python",
   "pygments_lexer": "ipython3",
   "version": "3.13.2"
  }
 },
 "nbformat": 4,
 "nbformat_minor": 5
}
