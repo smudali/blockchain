{
 "cells": [
  {
   "cell_type": "code",
   "execution_count": 1,
   "id": "d33a3848-bbe6-4026-a6ee-8239a57c926f",
   "metadata": {},
   "outputs": [],
   "source": [
    "#!pip install plotly"
   ]
  },
  {
   "cell_type": "markdown",
   "id": "d4ca6de6-de0a-4765-950b-cbba419e4aab",
   "metadata": {},
   "source": [
    "## Imports"
   ]
  },
  {
   "cell_type": "code",
   "execution_count": 2,
   "id": "60d5f9a3-c403-4b88-9429-31a3ce2331f7",
   "metadata": {},
   "outputs": [],
   "source": [
    "# To convert to json objects\n",
    "import json\n",
    "\n",
    "# For Http calls\n",
    "import requests\n",
    "\n",
    "# To read environment property file\n",
    "import os\n",
    "from dotenv import load_dotenv\n",
    "from pathlib import Path\n",
    "\n",
    "# Date calculations\n",
    "from datetime import datetime, timedelta\n",
    "\n",
    "# For dataframe\n",
    "import pandas as pd\n",
    "\n",
    "# Plotting\n",
    "import plotly.graph_objects as go"
   ]
  },
  {
   "cell_type": "markdown",
   "id": "012feaeb-6f06-45c0-94db-f6af743afdf3",
   "metadata": {},
   "source": [
    "## Load environment variables"
   ]
  },
  {
   "cell_type": "code",
   "execution_count": 3,
   "id": "71937d72-3b5c-4a37-9e3f-2e97a7f9c204",
   "metadata": {},
   "outputs": [],
   "source": [
    "dotenv_path = Path('.env/graph')\n",
    "load_dotenv(dotenv_path=dotenv_path)\n",
    "GRAPH_API_KEY = os.getenv('GRAPH_API_KEY')"
   ]
  },
  {
   "cell_type": "markdown",
   "id": "d55510e8-3ac7-425c-a114-24d21654a71a",
   "metadata": {},
   "source": [
    "## Constants"
   ]
  },
  {
   "cell_type": "code",
   "execution_count": 4,
   "id": "2d7466f0-1578-4d3d-a974-f771fc4eb614",
   "metadata": {},
   "outputs": [],
   "source": [
    "# The graph.com endpoint\n",
    "GRAPHQL_ENDPOINT = 'https://gateway.thegraph.com/api/{api_key}/\\\n",
    "subgraphs/id/5zvR82QoaXYFyDEKLZ9t6v9adgnptxYpKpSbxtgVENFV'.format(api_key=GRAPH_API_KEY)\n",
    "\n",
    "# Token 1 is WETH\n",
    "TOKEN1 = '0xc02aaa39b223fe8d0a0e5c4f27ead9083c756cc2'\n",
    "\n",
    "# Token 2 is WBTC\n",
    "TOKEN2 = '0x2260fac5e5542a773aa44fbcfedf7c193bc2c599'\n",
    "\n",
    "# How many days back from today's date\n",
    "DAYS = 60\n",
    "\n",
    "# How many hours back from the current time - only needed for hour prices\n",
    "HOURS = 48\n",
    "\n",
    "# Timeout in seconds\n",
    "TIMEOUT = 40\n",
    "\n",
    "# Query to get token info\n",
    "TOKEN_QUERY = \"\"\"\n",
    "{{\n",
    "  token(id: \"{token}\") {{\n",
    "    name\n",
    "    symbol\n",
    "  }}\n",
    "}}\n",
    "\"\"\"\n",
    "\n",
    "# Query to get token day data\n",
    "TOKEN_DATA_DATA_QUERY = \"\"\"\n",
    "{{\n",
    "  tokenDayDatas(\n",
    "    where: {{token_: {{symbol: \"{symbol}\"}}, date_gt: {start}}}\n",
    "    orderBy: date\n",
    "  ) {{\n",
    "    priceUSD\n",
    "    date\n",
    "  }}\n",
    "}}\n",
    "\"\"\""
   ]
  },
  {
   "cell_type": "code",
   "execution_count": 5,
   "id": "1388d60b-dfa8-467a-8ebd-ee3b24f555c3",
   "metadata": {},
   "outputs": [],
   "source": [
    "def get_token_info(token:str) -> (str, str):\n",
    "    \"\"\" Returns token symbol and name as a tuple\n",
    "    Parameters:\n",
    "    token : str\n",
    "        token address\n",
    "        \n",
    "    Returns:\n",
    "    tuple\n",
    "        Token symbol and name as a tuple\n",
    "    \"\"\"\n",
    "    query = TOKEN_QUERY.format(token=token)\n",
    "    json_data = json.loads(requests.post(url=GRAPHQL_ENDPOINT, json={'query': query}, timeout=TIMEOUT).text)\n",
    "    token_symbol = json_data['data']['token']['symbol']\n",
    "    token_name = json_data['data']['token']['name']\n",
    "    return (token_symbol, token_name)"
   ]
  },
  {
   "cell_type": "markdown",
   "id": "6f74ed11-2917-43af-be5f-d6b611e0c68a",
   "metadata": {},
   "source": [
    "## Get Name and Symbol"
   ]
  },
  {
   "cell_type": "code",
   "execution_count": 6,
   "id": "7cd3bb11-4a56-4f85-aebe-bb4f349c3710",
   "metadata": {},
   "outputs": [],
   "source": [
    "# Holds token info for both tokens\n",
    "token_info = {'token1': {}, 'token2': {}}\n",
    "\n",
    "# Get token info for TOKEN1\n",
    "symbol, name = get_token_info(token=TOKEN1)\n",
    "token_info['token1'] = {'symbol': symbol, 'name': name}\n",
    "# Get token info for TOKEN2\n",
    "symbol, name = get_token_info(token=TOKEN2)\n",
    "token_info['token2'] = {'symbol': symbol, 'name': name}"
   ]
  },
  {
   "cell_type": "code",
   "execution_count": 7,
   "id": "aa027498-7047-4da2-bb21-beb4f667af91",
   "metadata": {},
   "outputs": [],
   "source": [
    "def get_daily_token_data(symbol:str, start:int) -> pd.DataFrame:\n",
    "    \"\"\" Returns token daily data a dataframe with date and prices in USD\n",
    "    Parameters:\n",
    "    symbol : str\n",
    "        token symbol\n",
    "    start: int\n",
    "        start time (unix epoch time)\n",
    "        \n",
    "    Returns:\n",
    "    pd.DataFrame\n",
    "        A dataframe consists of date and prices\n",
    "    \"\"\"   \n",
    "    query = TOKEN_DATA_DATA_QUERY.format(symbol=symbol, start=start)\n",
    "    json_data = json.loads(requests.post(url=GRAPHQL_ENDPOINT, json={'query': query}, timeout=TIMEOUT).text)\n",
    "    # Construct a DF from the tokenDayDatas which is an array consisting of date, fees and price\n",
    "    df = pd.DataFrame(json_data['data']['tokenDayDatas'])\n",
    "    # Convert fees and prices to floats\n",
    "    df = df.astype({'priceUSD':'float'})\n",
    "    # Remove any elemets with zero prices - some are duplicates with zero values\n",
    "    df = df.query('priceUSD >0')\n",
    "    # Covert to datetime object, pass 's' (seconds) for unit \n",
    "    df['date'] = pd.to_datetime(df['date'],unit='s')\n",
    "    df.round({'priceUSD': 2})\n",
    "    return df    "
   ]
  },
  {
   "cell_type": "markdown",
   "id": "53c25d87-1218-49d6-bd33-741653d0ab1e",
   "metadata": {},
   "source": [
    "## Token1 daily data"
   ]
  },
  {
   "cell_type": "code",
   "execution_count": 8,
   "id": "facffb85-0497-49d1-bdde-718f17f8feca",
   "metadata": {},
   "outputs": [],
   "source": [
    "# This is the starting date (DAYS befoe the current date)\n",
    "period_start = int((datetime.today() - timedelta(days=DAYS)).timestamp())\n",
    "token1_df = get_daily_token_data(symbol=token_info['token1']['symbol'], start=period_start)\n",
    "\n",
    "# Set the date as the index\n",
    "token1_df = token1_df.set_index('date')"
   ]
  },
  {
   "cell_type": "markdown",
   "id": "f3e8ba50-a06a-4479-841a-d7cffe148202",
   "metadata": {},
   "source": [
    "## Plot daily prices"
   ]
  },
  {
   "cell_type": "code",
   "execution_count": 9,
   "id": "5af8bb36-1e8d-478f-80a1-fd48a764404c",
   "metadata": {},
   "outputs": [],
   "source": [
    "def plot_prices(token_data:dict, df:pd.DataFrame, hourly:bool=False) -> go.Figure:\n",
    "    \"\"\" Returns the go.Figure created using DF\n",
    "    Parameters:\n",
    "    token_data : dict\n",
    "        a dictionary containing token symbol and name\n",
    "    df: pd.DataFrame\n",
    "        DF containing data to plot\n",
    "    hourly:bool\n",
    "        True if we are plooting hourly prices or else we plot daily prices\n",
    "        \n",
    "    Returns:\n",
    "    go.Figure:\n",
    "        A go.Figure created from DF passed as a parameter\n",
    "    \"\"\"       \n",
    "    fig = go.Figure()\n",
    "    fig.add_trace(go.Scatter(x=df.index, y=df['priceUSD'], mode='lines',\n",
    "                             line_shape='spline', name=token_data['symbol']))\n",
    "\n",
    "    # Adjust the title for hourly/daily\n",
    "    if hourly:\n",
    "        title = '{name} hourly prices for the past {period} hours'.format(\n",
    "            name=token_data['name'], period=HOURS)\n",
    "    else:\n",
    "        title = '{name} daily prices for the past {period} days'.format(\n",
    "            name=token_data['name'], period=DAYS)\n",
    "        \n",
    "    # Add title, axis labels etc.\n",
    "    fig.update_layout(title=dict(text=title), xaxis=dict(title=dict(text='Date')),\n",
    "        yaxis=dict(title=dict(text='Prices')),template='seaborn')\n",
    "    return fig"
   ]
  },
  {
   "cell_type": "markdown",
   "id": "dfb44444-6f6c-4387-9c8b-ffd20f9f3640",
   "metadata": {},
   "source": [
    "## Plot Token1 Prices"
   ]
  },
  {
   "cell_type": "code",
   "execution_count": 17,
   "id": "63bbc646-cc90-48e7-bd2d-fa99141ff477",
   "metadata": {},
   "outputs": [],
   "source": [
    "plot_prices(token_data=token_info['token1'], df=token1_df).show()"
   ]
  },
  {
   "cell_type": "markdown",
   "id": "4f660a2c-a3ef-40a1-b0ca-46f200be5b0c",
   "metadata": {},
   "source": [
    "## Token hourly data"
   ]
  },
  {
   "cell_type": "code",
   "execution_count": 11,
   "id": "191236bf-070a-47f3-a7b7-69290926a7f3",
   "metadata": {},
   "outputs": [],
   "source": [
    "def plot_hourly_token_prices():\n",
    "    # This is the starting time, HOURS before now\n",
    "    period_start = int((datetime.now() - timedelta(hours=HOURS)).timestamp())\n",
    "    \n",
    "    query = \"\"\"\n",
    "    {{\n",
    "      tokenHourDatas(\n",
    "        where: {{token_: {{symbol: \"{symbol}\"}}, periodStartUnix_gte: {start}}}\n",
    "        orderBy: periodStartUnix\n",
    "      ) {{\n",
    "        priceUSD\n",
    "        feesUSD\n",
    "        periodStartUnix\n",
    "      }}\n",
    "    }}\n",
    "    \"\"\"\n",
    "    query = query.format(symbol=token_info['token1']['symbol'], start=period_start)\n",
    "    # Create a json object from the response\n",
    "    json_data = json.loads(requests.post(url=GRAPHQL_ENDPOINT, json={'query': query}, timeout=TIMEOUT).text)\n",
    "    # Construct a DF from the tokenDayDatas which is an array consisting of date, fees and price\n",
    "    df = pd.DataFrame(json_data['data']['tokenHourDatas'])\n",
    "    # Convert fees and prices to floats\n",
    "    df = df.astype({'priceUSD':'float'})\n",
    "    # Remove any elemets with zero prices - some are duplicates with zero values\n",
    "    df = df.query('priceUSD >0')\n",
    "    # Covert to datetime object, pass 's' (seconds) for unit \n",
    "    df['date'] = pd.to_datetime(df['periodStartUnix'],unit='s')\n",
    "    # Set the date as the index\n",
    "    df = df.set_index('date')\n",
    "    df.round({'priceUSD': 2})\n",
    "    plot_prices(token_data=token_info['token1'], df=df, hourly=True).show()"
   ]
  },
  {
   "cell_type": "markdown",
   "id": "04ca3fb8-3cd2-4dd1-ac93-11bfce44b185",
   "metadata": {},
   "source": [
    "## Plot hourly prices"
   ]
  },
  {
   "cell_type": "code",
   "execution_count": 18,
   "id": "c92be24d-f317-4500-be02-4529f7001978",
   "metadata": {},
   "outputs": [],
   "source": [
    "plot_hourly_token_prices()"
   ]
  },
  {
   "cell_type": "markdown",
   "id": "fc95d06e-6925-409d-94d8-2a638ad448a4",
   "metadata": {},
   "source": [
    "## 7D MA"
   ]
  },
  {
   "cell_type": "code",
   "execution_count": 20,
   "id": "e5313f86-fefb-4c07-b717-17df97b77a8f",
   "metadata": {},
   "outputs": [],
   "source": [
    "# 7 day MA\n",
    "MA7_series = token1_df['priceUSD'].rolling(window=7).mean()\n",
    "MA7_df = MA7_series.to_frame()\n",
    "# Only include non nan values\n",
    "MA7_df = MA7_df[MA7_df['priceUSD'].notna()]\n",
    "\n",
    "fig = plot_prices(token_data=token_info['token1'], df=token1_df)\n",
    "fig.add_trace(go.Scatter(x=MA7_df.index, y=MA7_df['priceUSD'], mode='lines',\n",
    "                         line_shape='spline', name='7 day MA for {symbol}'.format(\n",
    "                             symbol=token_info['token1']['symbol'])))\n"
   ]
  },
  {
   "cell_type": "markdown",
   "id": "bb5dd7c0-e39e-4af6-93cc-1c07fb78c4b1",
   "metadata": {},
   "source": [
    "## Token2 daily data"
   ]
  },
  {
   "cell_type": "code",
   "execution_count": 19,
   "id": "d2b50769-cad4-4a8e-a207-8484321d49c4",
   "metadata": {},
   "outputs": [],
   "source": [
    "token2_df = get_daily_token_data(symbol=token_info['token2']['symbol'], start=period_start)\n",
    "token2_df = token2_df.set_index('date')\n",
    "# Plot Token2 prices\n",
    "plot_prices(token_data=token_info['token2'], df=token2_df).show()"
   ]
  },
  {
   "cell_type": "markdown",
   "id": "c33b2721-ccc6-4e57-9536-a77be2eb8bad",
   "metadata": {},
   "source": [
    "## Token 1 to Token 2 ratio"
   ]
  },
  {
   "cell_type": "code",
   "execution_count": 21,
   "id": "724fa16b-ddbf-4c2e-9754-288648ba0271",
   "metadata": {},
   "outputs": [],
   "source": [
    "tk1_tk2_ratio_series = token1_df['priceUSD']/token2_df['priceUSD']\n",
    "tk1_tk2_ratio_df = tk1_tk2_ratio_series.to_frame()\n",
    "\n",
    "fig = go.Figure()\n",
    "fig.add_trace(go.Scatter(x=tk1_tk2_ratio_df.index,\n",
    "                         y=tk1_tk2_ratio_df['priceUSD'], mode='lines', line_shape='spline'))\n",
    "\n",
    "token1_data = token_info['token1']\n",
    "token2_data = token_info['token2']\n",
    "\n",
    "# Edit the layout\n",
    "fig.update_layout(\n",
    "    title=dict(text='{token1} to {token2} ratio past {days} days'.format(\n",
    "        token1=token1_data['name'], token2=token2_data['name'], days=DAYS)),\n",
    "    xaxis=dict(title=dict(text='Date')),\n",
    "    yaxis=dict(title=dict(text='{token1} / {token2} ratio'.format(\n",
    "        token1=token1_data['symbol'], token2=token2_data['symbol']))),\n",
    "    template='seaborn')"
   ]
  }
 ],
 "metadata": {
  "kernelspec": {
   "display_name": "Python 3 (ipykernel)",
   "language": "python",
   "name": "python3"
  },
  "language_info": {
   "codemirror_mode": {
    "name": "ipython",
    "version": 3
   },
   "file_extension": ".py",
   "mimetype": "text/x-python",
   "name": "python",
   "nbconvert_exporter": "python",
   "pygments_lexer": "ipython3",
   "version": "3.13.2"
  }
 },
 "nbformat": 4,
 "nbformat_minor": 5
}
