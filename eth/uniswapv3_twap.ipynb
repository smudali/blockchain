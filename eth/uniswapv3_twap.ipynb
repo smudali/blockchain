{
 "cells": [
  {
   "cell_type": "code",
   "execution_count": 14,
   "id": "32954efd-ba97-46ce-a6ff-ca964630be0c",
   "metadata": {},
   "outputs": [],
   "source": [
    "# import sys\n",
    "# !{sys.executable} -m pip install --upgrade pip\n",
    "# !{sys.executable} -m pip install --upgrade web3\n",
    "# !{sys.executable} -m pip install --upgrade python-dotenv\n",
    "# !{sys.executable} -m pip install --upgrade watermark"
   ]
  },
  {
   "cell_type": "markdown",
   "id": "ca2cfcd2-d530-4dbb-b6e4-1f4089a4ba27",
   "metadata": {},
   "source": [
    "## Load environment variables"
   ]
  },
  {
   "cell_type": "code",
   "execution_count": 2,
   "id": "fc1a182e-8b97-494d-861f-b2f95c9a9957",
   "metadata": {},
   "outputs": [
    {
     "data": {
      "text/plain": [
       "True"
      ]
     },
     "execution_count": 2,
     "metadata": {},
     "output_type": "execute_result"
    }
   ],
   "source": [
    "# To read environment property file\n",
    "import os\n",
    "from pathlib import Path\n",
    "from dotenv import load_dotenv\n",
    "\n",
    "dotenv_path = Path('.env/uniswap')\n",
    "load_dotenv(dotenv_path=dotenv_path)"
   ]
  },
  {
   "cell_type": "markdown",
   "id": "777c4c73-b1ee-454e-8f3c-dedeb8388ae6",
   "metadata": {},
   "source": [
    "## Constants"
   ]
  },
  {
   "cell_type": "code",
   "execution_count": 3,
   "id": "58e06cdf-ce42-45c3-8edf-2f4d59b2d48c",
   "metadata": {},
   "outputs": [],
   "source": [
    "PROVIDER_URL = os.getenv('PROVIDER_URL')\n",
    "# Uniswap LP address\n",
    "POOL_ADDRESS = '0x88e6A0c2dDD26FEEb64F039a2c41296FcB3f5640'\n",
    "# Uniswap v3 Pool  ABI path\n",
    "POOL_ABI = 'assets/abi/uniswapv3_pool_twap.json'\n",
    "# Path to the ERC20 ABI\n",
    "ERC20_ABI = 'assets/abi/erc20.json'\n",
    "# Time interval to take obeservations; 5 mins gaps in between till 30 mins (1800 seconds)\n",
    "TIME_INTERVALS = [x*5*60 for x in range(0,7)]\n",
    "# Date time format\n",
    "DATE_TIME_FMT = '%Y.%m.%d %H:%M:%S'"
   ]
  },
  {
   "cell_type": "code",
   "execution_count": 4,
   "id": "4baf0fdc-ec43-4495-897f-24810385aa53",
   "metadata": {},
   "outputs": [
    {
     "data": {
      "text/plain": [
       "[0, 300, 600, 900, 1200, 1500, 1800]"
      ]
     },
     "execution_count": 4,
     "metadata": {},
     "output_type": "execute_result"
    }
   ],
   "source": [
    "TIME_INTERVALS"
   ]
  },
  {
   "cell_type": "markdown",
   "id": "4b8d8dd1-e3cc-4fd3-a1e7-9e0479ae0e2c",
   "metadata": {},
   "source": [
    "## Load Contract"
   ]
  },
  {
   "cell_type": "code",
   "execution_count": 5,
   "id": "7cc30ac1-90a6-48de-aea0-cb9c37326364",
   "metadata": {},
   "outputs": [],
   "source": [
    "import json\n",
    "from web3 import Web3\n",
    "\n",
    "# Load the previously downloaded pool ABI\n",
    "with open(POOL_ABI) as f:\n",
    "    pool_abi = json.load(f)\n",
    "assert pool_abi != None, 'Pool ABI not available'\n",
    "\n",
    "# Create a pool contract\n",
    "web3 = Web3(Web3.HTTPProvider(PROVIDER_URL))\n",
    "pool_contract = web3.eth.contract(address=web3.to_checksum_address(value=POOL_ADDRESS), abi=pool_abi)\n",
    "\n",
    "# Load ERC20 ABIs to get decimals for token0 and token1\n",
    "with open(ERC20_ABI) as f:\n",
    "    erc20_abi = json.load(f)\n",
    "assert erc20_abi != None, 'ERC20 ABI not available'"
   ]
  },
  {
   "cell_type": "markdown",
   "id": "bcc8dfa3-2397-4193-842f-cb3c620f399c",
   "metadata": {},
   "source": [
    "## Observations stored"
   ]
  },
  {
   "cell_type": "code",
   "execution_count": 15,
   "id": "9a6bed35-bc86-46f3-b920-7cd1a0e028c5",
   "metadata": {},
   "outputs": [
    {
     "name": "stdout",
     "output_type": "stream",
     "text": [
      "Current Time - 2025.10.02 17:51:14\n",
      "The maximum number of observations the Pool can store at the moment is 723\n",
      "The actual number of observations the Pool has currently stored is 723\n"
     ]
    }
   ],
   "source": [
    "from datetime import datetime\n",
    "\n",
    "_, _, _, observation_count, max_observation_count, _, _ = pool_contract.functions.slot0().call()\n",
    "print(f'Current Time - {datetime.now().strftime(DATE_TIME_FMT)}')\n",
    "print(f'The maximum number of observations the Pool can store at the moment is {max_observation_count}')\n",
    "print(f'The actual number of observations the Pool has currently stored is {observation_count}')"
   ]
  },
  {
   "cell_type": "markdown",
   "id": "59d61b6b-ed35-4f80-88c5-4aa1267e705d",
   "metadata": {},
   "source": [
    "## Average Ticks"
   ]
  },
  {
   "cell_type": "code",
   "execution_count": 17,
   "id": "00ecdb33-3a8f-4212-a936-7a95ded270ec",
   "metadata": {},
   "outputs": [],
   "source": [
    "import time\n",
    "\n",
    "# The current time stamp; the base time; intervals will be added later\n",
    "current_time_seconds = time.time()\n",
    "\n",
    "# Call pool method to get the cumulative ticks\n",
    "tick_cumulatives, _ = pool_contract.functions.observe(TIME_INTERVALS).call()\n",
    "\n",
    "# Place holder to hold average ticks\n",
    "average_ticks = []\n",
    "for idx in range(len(TIME_INTERVALS[:-1])):\n",
    "    # Calculate the average tick; since time interval is constant, we can simply divide it by 300 seconds\n",
    "    average_ticks.append((tick_cumulatives[idx] - tick_cumulatives[idx+1])/300)"
   ]
  },
  {
   "cell_type": "code",
   "execution_count": 18,
   "id": "8c2a7a44-0197-4725-b4db-79ad0ebc7dc1",
   "metadata": {},
   "outputs": [
    {
     "data": {
      "text/plain": [
       "[192445.52, 192440.56, 192444.88, 192450.0, 192452.04, 192446.12]"
      ]
     },
     "execution_count": 18,
     "metadata": {},
     "output_type": "execute_result"
    }
   ],
   "source": [
    "average_ticks"
   ]
  },
  {
   "cell_type": "markdown",
   "id": "8eaf0078-859c-4d92-bd7d-680fcae0bda5",
   "metadata": {},
   "source": [
    "## Tick to Price"
   ]
  },
  {
   "cell_type": "code",
   "execution_count": 20,
   "id": "07d67dd3-f6c7-4457-9062-8e838ada1bba",
   "metadata": {},
   "outputs": [],
   "source": [
    "# For processing large numbers\n",
    "from decimal import Decimal\n",
    "\n",
    "def tick_to_price(tick: int, token0_decimals: int, token1_decimals: int) -> (Decimal, Decimal):\n",
    "    price = Decimal(1.0001) ** tick\n",
    "    # Adjust for token decimals\n",
    "    token0_price = round(price * (Decimal(10) ** token0_decimals) / (Decimal(10) ** token1_decimals), token1_decimals)\n",
    "    token1_price = round((1/token0_price), token0_decimals)\n",
    "    return (token0_price, token1_price)"
   ]
  },
  {
   "cell_type": "markdown",
   "id": "cb0446d1-0a2c-4cd3-9be6-7d1ad9cddca0",
   "metadata": {},
   "source": [
    "## Load Token decimals and symbols via contracts"
   ]
  },
  {
   "cell_type": "code",
   "execution_count": 21,
   "id": "92542c64-6809-4213-a227-7d9b1dc51f70",
   "metadata": {},
   "outputs": [],
   "source": [
    "# Token decimals\n",
    "token0_address = pool_contract.functions.token0().call()\n",
    "token0_contract = web3.eth.contract(address=token0_address, abi=erc20_abi)\n",
    "decimal0 = token0_contract.functions.decimals().call()\n",
    "\n",
    "token1_address = pool_contract.functions.token1().call()\n",
    "token1_contract = web3.eth.contract(address=token1_address, abi=erc20_abi)\n",
    "decimal1 = token1_contract.functions.decimals().call()\n",
    "\n",
    "# Symbols\n",
    "token0_sym = token0_contract.functions.symbol.call()\n",
    "token1_sym = token1_contract.functions.symbol.call()"
   ]
  },
  {
   "cell_type": "code",
   "execution_count": 23,
   "id": "588a4142-7dd5-4984-a0b1-8822471154b3",
   "metadata": {},
   "outputs": [
    {
     "name": "stdout",
     "output_type": "stream",
     "text": [
      "price of USDC in value of WETH: 0.000227699614756389 and WETH in value of USDC: 4391.750953 at 2025.10.02 17:57:36\n",
      "price of USDC in value of WETH: 0.000227585799095985 and WETH in value of USDC: 4393.947267 at 2025.10.02 18:02:36\n",
      "price of USDC in value of WETH: 0.000227676847071682 and WETH in value of USDC: 4392.190128 at 2025.10.02 18:07:36\n",
      "price of USDC in value of WETH: 0.000227813487336006 and WETH in value of USDC: 4389.555736 at 2025.10.02 18:12:36\n",
      "price of USDC in value of WETH: 0.000227859052311608 and WETH in value of USDC: 4388.677956 at 2025.10.02 18:17:36\n",
      "price of USDC in value of WETH: 0.000227722384717865 and WETH in value of USDC: 4391.311821 at 2025.10.02 18:22:36\n"
     ]
    }
   ],
   "source": [
    "from datetime import datetime\n",
    "\n",
    "for idx in range(len(average_ticks)):\n",
    "    token0_price, token1_price = tick_to_price(int(average_ticks[idx]), decimal0, decimal1)\n",
    "    print(f'price of {token0_sym} in value of {token1_sym}: {token0_price} \\\n",
    "and {token1_sym} in value of {token0_sym}: {token1_price} at \\\n",
    "{datetime.fromtimestamp(current_time_seconds + TIME_INTERVALS[idx]).strftime(DATE_TIME_FMT)}')"
   ]
  },
  {
   "cell_type": "markdown",
   "id": "c11d0797-31b8-4a7d-a9d4-fb85d6eeb255",
   "metadata": {},
   "source": [
    "## Display Modules"
   ]
  },
  {
   "cell_type": "code",
   "execution_count": 24,
   "id": "34d846b1-2c3c-468d-85f0-330f242e943d",
   "metadata": {},
   "outputs": [
    {
     "name": "stdout",
     "output_type": "stream",
     "text": [
      "The watermark extension is already loaded. To reload it, use:\n",
      "  %reload_ext watermark\n",
      "web3     : 7.13.0\n",
      "watermark: 2.5.0\n",
      "json     : 2.0.9\n",
      "sys      : 3.13.7 (main, Aug 15 2025, 12:34:02) [GCC 15.2.1 20250813]\n",
      "decimal  : 1.70\n",
      "\n"
     ]
    }
   ],
   "source": [
    "from watermark import watermark\n",
    "\n",
    "%load_ext watermark\n",
    "%watermark --iversions"
   ]
  }
 ],
 "metadata": {
  "kernelspec": {
   "display_name": "Python 3 (ipykernel)",
   "language": "python",
   "name": "python3"
  },
  "language_info": {
   "codemirror_mode": {
    "name": "ipython",
    "version": 3
   },
   "file_extension": ".py",
   "mimetype": "text/x-python",
   "name": "python",
   "nbconvert_exporter": "python",
   "pygments_lexer": "ipython3",
   "version": "3.13.7"
  }
 },
 "nbformat": 4,
 "nbformat_minor": 5
}
